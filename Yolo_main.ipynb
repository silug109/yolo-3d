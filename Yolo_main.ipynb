{
 "cells": [
  {
   "cell_type": "code",
   "execution_count": 1,
   "metadata": {},
   "outputs": [
    {
     "name": "stderr",
     "output_type": "stream",
     "text": [
      "Using TensorFlow backend.\n"
     ]
    }
   ],
   "source": [
    "from __future__ import absolute_import, division, print_function, unicode_literals, unicode_literals\n",
    "\n",
    "import tensorflow as tf\n",
    "\n",
    "import numpy as np\n",
    "import skimage\n",
    "import cv2\n",
    "import scipy.io\n",
    "import pprint\n",
    "import glob\n",
    "\n",
    "import PIL as pillow\n",
    "from PIL import Image\n",
    "import matplotlib.pyplot as plt\n",
    "import matplotlib.patches as patches\n",
    "\n",
    "import os\n",
    "import matplotlib\n",
    "\n",
    "\n",
    "import json\n",
    "\n",
    "import random\n",
    "from sklearn.model_selection import train_test_split\n",
    "\n",
    "import config\n",
    "from data_util import *\n",
    "from visualization import *\n",
    "from metrics import *\n",
    "from model import *\n",
    "\n",
    "import open3d\n",
    "import open3d as o3d\n",
    "\n",
    "%matplotlib notebook"
   ]
  },
  {
   "cell_type": "code",
   "execution_count": 5,
   "metadata": {},
   "outputs": [
    {
     "name": "stdout",
     "output_type": "stream",
     "text": [
      "WARNING:tensorflow:From /home/cognitive-comp/.local/lib/python3.6/site-packages/tensorflow/python/framework/op_def_library.py:263: colocate_with (from tensorflow.python.framework.ops) is deprecated and will be removed in a future version.\n",
      "Instructions for updating:\n",
      "Colocations handled automatically by placer.\n",
      "WARNING:tensorflow:From /home/cognitive-comp/Рабочий стол/projects/yolo/model.py:139: to_float (from tensorflow.python.ops.math_ops) is deprecated and will be removed in a future version.\n",
      "Instructions for updating:\n",
      "Use tf.cast instead.\n",
      "WARNING:tensorflow:From /home/cognitive-comp/Рабочий стол/projects/yolo/model.py:170: Print (from tensorflow.python.ops.logging_ops) is deprecated and will be removed after 2018-08-20.\n",
      "Instructions for updating:\n",
      "Use tf.print instead of tf.Print. Note that tf.print returns a no-output operator that directly prints the output. Outside of defuns or eager mode, this operator will not be executed unless it is directly specified in session.run or used as a control dependency for other operators. This is only a concern in graph mode. Below is an example of how to ensure tf.print executes in graph mode:\n",
      "```python\n",
      "    sess = tf.Session()\n",
      "    with sess.as_default():\n",
      "        tensor = tf.range(10)\n",
      "        print_op = tf.print(tensor)\n",
      "        with tf.control_dependencies([print_op]):\n",
      "          out = tf.add(tensor, tensor)\n",
      "        sess.run(out)\n",
      "    ```\n",
      "Additionally, to use tf.print in python 2.7, users must make sure to import\n",
      "the following:\n",
      "\n",
      "  `from __future__ import print_function`\n",
      "\n",
      "_________________________________________________________________\n",
      "Layer (type)                 Output Shape              Param #   \n",
      "=================================================================\n",
      "input_1 (InputLayer)         (None, 512.0, 128.0, 40.0 0         \n",
      "_________________________________________________________________\n",
      "conv_0_1 (Conv3D)            (None, 512.0, 128.0, 40.0 16016     \n",
      "_________________________________________________________________\n",
      "norm_0_1 (BatchNormalization (None, 512.0, 128.0, 40.0 64        \n",
      "_________________________________________________________________\n",
      "leaky_re_lu_1 (LeakyReLU)    (None, 512.0, 128.0, 40.0 0         \n",
      "_________________________________________________________________\n",
      "max_pooling3d_1 (MaxPooling3 (None, 256.0, 64.0, 40.0, 0         \n",
      "_________________________________________________________________\n",
      "conv_1_1 (Conv3D)            (None, 256.0, 64.0, 40.0, 256016    \n",
      "_________________________________________________________________\n",
      "norm_1_1 (BatchNormalization (None, 256.0, 64.0, 40.0, 64        \n",
      "_________________________________________________________________\n",
      "leaky_re_lu_2 (LeakyReLU)    (None, 256.0, 64.0, 40.0, 0         \n",
      "_________________________________________________________________\n",
      "max_pooling3d_2 (MaxPooling3 (None, 64.0, 16.0, 10.0,  0         \n",
      "_________________________________________________________________\n",
      "conv3d_1 (Conv3D)            (None, 64.0, 16.0, 10.0,  256016    \n",
      "_________________________________________________________________\n",
      "norm_5_1 (BatchNormalization (None, 64.0, 16.0, 10.0,  64        \n",
      "_________________________________________________________________\n",
      "leaky_re_lu_3 (LeakyReLU)    (None, 64.0, 16.0, 10.0,  0         \n",
      "_________________________________________________________________\n",
      "max_pooling3d_3 (MaxPooling3 (None, 16.0, 8.0, 5.0, 16 0         \n",
      "_________________________________________________________________\n",
      "yolo (Conv3D)                (None, 16.0, 8.0, 5.0, 60 1020      \n",
      "_________________________________________________________________\n",
      "reshape_1 (Reshape)          (None, 16, 8, 5, 6, 10)   0         \n",
      "=================================================================\n",
      "Total params: 529,260\n",
      "Trainable params: 529,164\n",
      "Non-trainable params: 96\n",
      "_________________________________________________________________\n"
     ]
    }
   ],
   "source": [
    "model_our = load_model(False)\n",
    "model_our.summary()"
   ]
  },
  {
   "cell_type": "code",
   "execution_count": 27,
   "metadata": {},
   "outputs": [
    {
     "name": "stdout",
     "output_type": "stream",
     "text": [
      "_________________________________________________________________\n",
      "Layer (type)                 Output Shape              Param #   \n",
      "=================================================================\n",
      "input_13 (InputLayer)        (None, 512.0, 128.0, 40.0 0         \n",
      "_________________________________________________________________\n",
      "conv_0_1 (Conv3D)            (None, 512.0, 128.0, 40.0 2016      \n",
      "_________________________________________________________________\n",
      "conv_0_2 (Conv3D)            (None, 512.0, 128.0, 40.0 32016     \n",
      "_________________________________________________________________\n",
      "norm_0_1 (BatchNormalization (None, 512.0, 128.0, 40.0 64        \n",
      "_________________________________________________________________\n",
      "leaky_re_lu_36 (LeakyReLU)   (None, 512.0, 128.0, 40.0 0         \n",
      "_________________________________________________________________\n",
      "max_pooling3d_34 (MaxPooling (None, 256.0, 64.0, 40.0, 0         \n",
      "_________________________________________________________________\n",
      "conv_1_1 (Conv3D)            (None, 256.0, 64.0, 40.0, 64032     \n",
      "_________________________________________________________________\n",
      "conv_1_2 (Conv3D)            (None, 256.0, 64.0, 40.0, 128032    \n",
      "_________________________________________________________________\n",
      "norm_1_1 (BatchNormalization (None, 256.0, 64.0, 40.0, 128       \n",
      "_________________________________________________________________\n",
      "leaky_re_lu_37 (LeakyReLU)   (None, 256.0, 64.0, 40.0, 0         \n",
      "_________________________________________________________________\n",
      "max_pooling3d_35 (MaxPooling (None, 64.0, 16.0, 10.0,  0         \n",
      "_________________________________________________________________\n",
      "conv_2_1 (Conv3D)            (None, 64.0, 16.0, 10.0,  128032    \n",
      "_________________________________________________________________\n",
      "conv_2_2 (Conv3D)            (None, 64.0, 16.0, 10.0,  128032    \n",
      "_________________________________________________________________\n",
      "norm_5_1 (BatchNormalization (None, 64.0, 16.0, 10.0,  128       \n",
      "_________________________________________________________________\n",
      "leaky_re_lu_38 (LeakyReLU)   (None, 64.0, 16.0, 10.0,  0         \n",
      "_________________________________________________________________\n",
      "max_pooling3d_36 (MaxPooling (None, 16.0, 8.0, 5.0, 32 0         \n",
      "_________________________________________________________________\n",
      "pred_yolo (Conv3D)           (None, 16.0, 8.0, 5.0, 32 1056      \n",
      "_________________________________________________________________\n",
      "yolo (Conv3D)                (None, 16.0, 8.0, 5.0, 60 1980      \n",
      "_________________________________________________________________\n",
      "reshape_9 (Reshape)          (None, 16, 8, 5, 6, 10)   0         \n",
      "=================================================================\n",
      "Total params: 485,516\n",
      "Trainable params: 485,356\n",
      "Non-trainable params: 160\n",
      "_________________________________________________________________\n"
     ]
    }
   ],
   "source": [
    "def get_model_2():\n",
    "    '''\n",
    "    :return: возвращает арзитектуру сети для Yolo\n",
    "    '''\n",
    "    input_image = layers.Input(shape=(IMAGE_H/striding ,IMAGE_W/striding ,IMAGE_D/striding ,1))\n",
    "    x = layers.Conv3D(filters = 16 ,kernel_size=(5 ,5 ,5) ,strides = (1 ,1 ,1) ,padding = 'same', name = 'conv_0_1') \\\n",
    "        (input_image)\n",
    "    x = layers.Conv3D(filters = 16 ,kernel_size=(5 ,5 ,5) ,strides = (1 ,1 ,1) ,padding = 'same', name = 'conv_0_2') \\\n",
    "        (x)\n",
    "    x = layers.BatchNormalization(name='norm_0_1')(x)\n",
    "    x = layers.advanced_activations.LeakyReLU(alpha=ALPHA)(x)\n",
    "    x = layers.MaxPool3D(pool_size=(2 ,2 ,1))(x)\n",
    "\n",
    "    x = layers.Conv3D(filters = 32 ,kernel_size=(5 ,5 ,5) ,strides = (1 ,1 ,1) ,padding = 'same' ,name = 'conv_1_1')(x)\n",
    "    x = layers.Conv3D(filters = 32 ,kernel_size=(5 ,5 ,5) ,strides = (1 ,1 ,1) ,padding = 'same' ,name = 'conv_1_2')(x)\n",
    "    x = layers.BatchNormalization(name='norm_1_1')(x)\n",
    "    x = layers.advanced_activations.LeakyReLU(alpha=ALPHA)(x)\n",
    "    x = layers.MaxPool3D(pool_size=(4 ,4 ,4))(x)\n",
    "\n",
    "    x = layers.Conv3D(filters = 32 ,kernel_size=(5 ,5 ,5) ,strides = (1 ,1 ,1) ,padding = 'same', name = 'conv_2_1')(x)\n",
    "    x = layers.Conv3D(filters = 32 ,kernel_size=(5 ,5 ,5) ,strides = (1 ,1 ,1) ,padding = 'same', name = 'conv_2_2')(x)\n",
    "    x = layers.BatchNormalization(name='norm_5_1')(x)\n",
    "    x = layers.advanced_activations.LeakyReLU(alpha=ALPHA)(x)\n",
    "    x = layers.MaxPool3D(pool_size=(4 ,2 ,2))(x)\n",
    "\n",
    "    x = layers.Conv3D(filters= 32, kernel_size=(1 ,1 ,1), strides =(1 ,1 ,1), padding = 'same', name= 'pred_yolo')(x)\n",
    "    x = layers.Conv3D(filters= (4+1+num_classes )*num_boxes, kernel_size=(1 ,1 ,1), strides =(1 ,1 ,1), padding = 'same', name= 'yolo')(x)\n",
    "    output = layers.Reshape((GRID_H ,GRID_W ,GRID_D ,num_boxes, 4 + 1 + num_classes))(x)\n",
    "    model = models.Model(input_image, output)\n",
    "    return model\n",
    "\n",
    "\n",
    "\n",
    "def load_model_2(load_weights = False):\n",
    "    model = get_model_2()\n",
    "    mypotim = Adam(lr=0.001, beta_1=0.9, beta_2=0.999, epsilon=1e-08, decay=0.0)\n",
    "\n",
    "    model_loss_bend = model_loss()\n",
    "\n",
    "    model.compile(loss=model_loss_bend, optimizer=mypotim)\n",
    "\n",
    "    return model\n",
    "\n",
    "model_our = load_model_2()\n",
    "model_our.summary()"
   ]
  },
  {
   "cell_type": "code",
   "execution_count": null,
   "metadata": {},
   "outputs": [],
   "source": []
  },
  {
   "cell_type": "code",
   "execution_count": null,
   "metadata": {},
   "outputs": [],
   "source": []
  },
  {
   "cell_type": "code",
   "execution_count": null,
   "metadata": {},
   "outputs": [],
   "source": []
  },
  {
   "cell_type": "code",
   "execution_count": 6,
   "metadata": {},
   "outputs": [],
   "source": [
    "# model_our.load_weights('train_full_train.h5')"
   ]
  },
  {
   "cell_type": "code",
   "execution_count": 7,
   "metadata": {},
   "outputs": [],
   "source": [
    "# val_loss_arr = np.load('val_loss_progress.npy')\n",
    "# loss_arr = np.load('loss_progress.npy')\n"
   ]
  },
  {
   "cell_type": "code",
   "execution_count": 26,
   "metadata": {},
   "outputs": [
    {
     "name": "stderr",
     "output_type": "stream",
     "text": [
      "/home/cognitive-comp/.local/lib/python3.6/site-packages/sklearn/model_selection/_split.py:2179: FutureWarning: From version 0.21, test_size will always complement train_size unless both are specified.\n",
      "  FutureWarning)\n"
     ]
    }
   ],
   "source": [
    "pathname = os.path.abspath('data')\n",
    "dir_list = os.listdir(pathname)\n",
    "full_frame_dir = []\n",
    "\n",
    "for dir_item in dir_list:\n",
    "    for num in range(40):\n",
    "        full_frame_dir.append([os.path.join(pathname,dir_item), num])\n",
    "\n",
    "\n",
    "train_list, test_list = train_test_split(full_frame_dir, train_size = 0.96)\n"
   ]
  },
  {
   "cell_type": "code",
   "execution_count": null,
   "metadata": {},
   "outputs": [
    {
     "name": "stdout",
     "output_type": "stream",
     "text": [
      "Epoch 1/10\n",
      "60/60 [==============================] - 136s 2s/step - loss: 223108.2120 - val_loss: 13302.8179\n",
      "Epoch 2/10\n",
      "60/60 [==============================] - 129s 2s/step - loss: 1337.2852 - val_loss: 2094.4668\n",
      "Epoch 3/10\n",
      "60/60 [==============================] - 130s 2s/step - loss: 940.4344 - val_loss: 1213.7119\n",
      "Epoch 4/10\n",
      "59/60 [============================>.] - ETA: 2s - loss: 726.5220"
     ]
    }
   ],
   "source": [
    "val_loss_arr = []\n",
    "loss_arr = []\n",
    "\n",
    "plt.figure()\n",
    "counter = 0\n",
    "\n",
    "while True:\n",
    "    H = model_our.fit_generator(generator_train(full_frame_dir), validation_data= return_val(pathname_val), steps_per_epoch= 60, epochs = 10)\n",
    "    val_loss_arr.append(H.history['val_loss'])\n",
    "    loss_arr.append(H.history['loss'])\n",
    "    \n",
    "    plt.plot(np.ravel(np.array(val_loss_arr)))\n",
    "    plt.plot(np.ravel(np.array(loss_arr)))\n",
    "    plt.show()\n",
    "    \n",
    "    if counter%10 == 1:\n",
    "        metrics_numpy(model_our, directory= directory_val)\n",
    "    \n",
    "    counter += 1"
   ]
  },
  {
   "cell_type": "code",
   "execution_count": 237,
   "metadata": {},
   "outputs": [],
   "source": [
    "model_our.save_weights('classification_12_11_19.h5')"
   ]
  },
  {
   "cell_type": "code",
   "execution_count": 96,
   "metadata": {},
   "outputs": [],
   "source": [
    "np.save('val_loss_progress.npy', np.ravel(np.array(val_loss_arr)))\n",
    "np.save('loss_progress.npy', np.ravel(np.array(loss_arr)))\n",
    "model_our.save('train_full_train.h5')\n",
    "model_our.save_weights('weights_good_loader.h5')"
   ]
  },
  {
   "cell_type": "code",
   "execution_count": 7,
   "metadata": {},
   "outputs": [
    {
     "name": "stdout",
     "output_type": "stream",
     "text": [
      "searching in directory/home/cognitive-comp/Рабочий стол/projects/yolo/data\n",
      "loading /home/cognitive-comp/Рабочий стол/projects/yolo/data/Data_30-May-2018 13-29-23_12.mat\n",
      "loading /home/cognitive-comp/Рабочий стол/projects/yolo/data/Data_30-May-2018 13-29-23_23.mat\n",
      "loading /home/cognitive-comp/Рабочий стол/projects/yolo/data/Data_30-May-2018 13-29-23_27.mat\n",
      "loading /home/cognitive-comp/Рабочий стол/projects/yolo/data/Data_30-May-2018 13-29-23_21.mat\n",
      "loading /home/cognitive-comp/Рабочий стол/projects/yolo/data/Data_30-May-2018 13-29-23_10.mat\n",
      "loading /home/cognitive-comp/Рабочий стол/projects/yolo/data/Data_30-May-2018 13-29-23_8.mat\n",
      "loading /home/cognitive-comp/Рабочий стол/projects/yolo/data/Data_30-May-2018 13-29-23_18.mat\n",
      "loading /home/cognitive-comp/Рабочий стол/projects/yolo/data/Data_30-May-2018 13-29-23_6.mat\n",
      "loading /home/cognitive-comp/Рабочий стол/projects/yolo/data/Data_30-May-2018 13-29-23_22.mat\n",
      "loading /home/cognitive-comp/Рабочий стол/projects/yolo/data/Data_30-May-2018 13-29-23_20.mat\n",
      "loading /home/cognitive-comp/Рабочий стол/projects/yolo/data/Data_30-May-2018 13-29-23_7.mat\n",
      "loading /home/cognitive-comp/Рабочий стол/projects/yolo/data/Data_30-May-2018 13-29-23_2.mat\n",
      "loading /home/cognitive-comp/Рабочий стол/projects/yolo/data/Data_30-May-2018 13-29-23_24.mat\n",
      "loading /home/cognitive-comp/Рабочий стол/projects/yolo/data/Data_30-May-2018 13-29-23_26.mat\n",
      "loading /home/cognitive-comp/Рабочий стол/projects/yolo/data/Data_30-May-2018 13-29-23_17.mat\n",
      "loading /home/cognitive-comp/Рабочий стол/projects/yolo/data/Data_30-May-2018 13-29-23_13.mat\n",
      "loading /home/cognitive-comp/Рабочий стол/projects/yolo/data/Data_30-May-2018 13-29-23_14.mat\n",
      "loading /home/cognitive-comp/Рабочий стол/projects/yolo/data/Data_30-May-2018 13-29-23_9.mat\n",
      "loading /home/cognitive-comp/Рабочий стол/projects/yolo/data/Data_30-May-2018 13-29-23_19.mat\n",
      "loading /home/cognitive-comp/Рабочий стол/projects/yolo/data/Data_30-May-2018 13-29-23_25.mat\n",
      "loading /home/cognitive-comp/Рабочий стол/projects/yolo/data/Data_30-May-2018 13-29-23_16.mat\n",
      "loading /home/cognitive-comp/Рабочий стол/projects/yolo/data/Data_30-May-2018 13-29-23_11.mat\n",
      "loading /home/cognitive-comp/Рабочий стол/projects/yolo/data/Data_30-May-2018 13-29-23_15.mat\n",
      "avg_iou 0.12194506207272394\n",
      "recall50 0.0\n",
      "recall75 0.0\n",
      "avg_obj 0.4076877640684259\n",
      "avg_noobj 0.4761392340828807\n",
      "avg_cat 0.05358414255026453\n"
     ]
    }
   ],
   "source": [
    "metrics_numpy(model_our, directory= pathname)"
   ]
  },
  {
   "cell_type": "code",
   "execution_count": 8,
   "metadata": {},
   "outputs": [
    {
     "name": "stdout",
     "output_type": "stream",
     "text": [
      "searching in directory/home/cognitive-comp/Рабочий стол/projects/yolo/val_data\n",
      "loading /home/cognitive-comp/Рабочий стол/projects/yolo/val_data/Data_30-May-2018 13-29-23_20.mat\n",
      "avg_iou 0.0002883257003269166\n",
      "avg_precision 2.1087792698562653e-06\n",
      "recall50 4.723665564478035e-05\n",
      "true_counter: 4234\n"
     ]
    }
   ],
   "source": [
    "metrics_numpy_targets(model_our, directory_val)"
   ]
  },
  {
   "cell_type": "code",
   "execution_count": 11,
   "metadata": {},
   "outputs": [
    {
     "data": {
      "image/png": "[encoded data removed]",
      "text/plain": [
       "<Figure size 432x288 with 3 Axes>"
      ]
     },
     "metadata": {
      "needs_background": "light"
     },
     "output_type": "display_data"
    }
   ],
   "source": [
    "matr = scipy.io.loadmat(os.path.join(pathname, os.listdir(pathname)[1]))\n",
    "# matr = scipy.io.loadmat(os.path.join(directory_val, os.listdir(directory_val)[0]))\n",
    "frame,targets, y_true = process_matfile(matr, 10)\n",
    "\n",
    "y_pred = model_our.predict(frame)\n",
    "\n",
    "show_comparison_object_level(y_true, y_pred)"
   ]
  },
  {
   "cell_type": "code",
   "execution_count": 12,
   "metadata": {},
   "outputs": [
    {
     "name": "stdout",
     "output_type": "stream",
     "text": [
      "295 [[18.739177703857422, 55.26749277114868, 33.38019847869873, 96.11053168773651, 0.6063383, 0], [17.565311431884766, 55.98100709915161, 177.64375776052475, 76.74311459064484, 0.6679982, 0], [19.571001052856445, 54.72348880767822, 30.464038252830505, 72.29543030261993, 0.68216556, 0], [16.929365158081055, 55.77603054046631, 194.6946945786476, 83.01320433616638, 0.69065, 0], [19.649551391601562, 54.45592260360718, 32.442706823349, 72.27164804935455, 0.71337366, 0], [16.825706481933594, 71.93792819976807, 154.2848601937294, 62.062857151031494, 0.65285224, 0], [20.16238784790039, 70.25863265991211, 22.955243289470673, 61.9393989443779, 0.6960271, 0], [18.14733123779297, 71.6982569694519, 189.48943316936493, 61.35960578918457, 0.7955996, 0], [23.928150177001953, 68.93598890304565, 21.30596786737442, 29.429136961698532, 0.82815325, 0], [16.927640914916992, 71.32905387878418, 207.54989981651306, 76.40032052993774, 0.8297608, 0], [24.598581314086914, 68.47749376296997, 22.82302975654602, 29.65894415974617, 0.86582947, 0], [16.987749099731445, 86.9814248085022, 185.3391683101654, 63.3122593164444, 0.65665734, 0], [21.261499404907227, 85.37294387817383, 23.9368736743927, 49.106571078300476, 0.7449581, 0], [18.24346351623535, 86.48960781097412, 231.56822979450226, 68.00278723239899, 0.8398316, 0], [26.111982345581055, 83.79030704498291, 21.83047980070114, 19.454962760210037, 0.89658135, 0], [5.839231967926025, 88.4562120437622, 3.2607117295265198, 10.412060916423798, 0.60423225, 0], [18.560894012451172, 86.07948780059814, 261.4835971593857, 83.49902212619781, 0.8710691, 0], [26.99224281311035, 83.36890983581543, 22.73905575275421, 17.066363990306854, 0.92027795, 0], [20.245485305786133, 100.43728399276733, 25.620517134666443, 46.90059721469879, 0.7362526, 0], [7.387710094451904, 105.6038293838501, 4.758521169424057, 12.022166848182678, 0.6564646, 0], [20.1632022857666, 101.68206787109375, 294.6955645084381, 60.08181393146515, 0.7978139, 0], [25.56208038330078, 98.85384607315063, 25.063326954841614, 15.304223075509071, 0.8928832, 0], [6.998504638671875, 105.52870845794678, 3.956621140241623, 10.305978655815125, 0.6927875, 0], [20.690828323364258, 101.27210903167725, 386.9352614879608, 69.36115860939026, 0.8467221, 0], [26.636241912841797, 98.47042059898376, 28.722119331359863, 12.650798633694649, 0.92052174, 0], [20.115785598754883, 117.35660886764526, 37.6582145690918, 64.16379511356354, 0.6053484, 0], [8.451512336730957, 122.48142910003662, 11.554094552993774, 19.444162845611572, 0.6466633, 0], [21.88935661315918, 117.52765893936157, 297.7526241540909, 58.867082595825195, 0.6751997, 0], [23.86911964416504, 115.30742526054382, 33.41757655143738, 21.90205603837967, 0.8052404, 0], [8.118900299072266, 121.84847164154053, 8.218386843800545, 13.047899901866913, 0.7136248, 0], [22.024354934692383, 117.21346282958984, 401.6257166862488, 52.13191658258438, 0.74974614, 0], [24.177053451538086, 114.82974410057068, 41.101858019828796, 15.465454012155533, 0.86573935, 0], [52.254852294921875, 53.96633958816528, 31.85216188430786, 91.0733699798584, 0.6317708, 0], [47.891228675842285, 55.1833872795105, 256.3940370082855, 92.26659178733826, 0.61620826, 0], [51.78401184082031, 53.86349678039551, 31.616973876953125, 90.51344990730286, 0.6468113, 0], [55.39306449890137, 68.72122287750244, 24.95100051164627, 57.4627161026001, 0.73763055, 0], [44.65079307556152, 70.22736692428589, 229.08401906490326, 91.8998795747757, 0.72203225, 0], [57.434030532836914, 68.53208112716675, 25.67901313304901, 48.877134919166565, 0.7907679, 0], [45.99628925323486, 69.8774037361145, 289.05348777770996, 85.98725080490112, 0.7258505, 0], [56.802127838134766, 68.09892797470093, 22.35545516014099, 46.56248688697815, 0.79736483, 0], [43.8853235244751, 84.9361457824707, 184.26171332597733, 88.02801072597504, 0.6376906, 0], [57.11534881591797, 84.25881719589233, 28.05798649787903, 44.92146670818329, 0.7975759, 0], [43.29324436187744, 85.53580045700073, 218.71929287910461, 103.76174867153168, 0.77473366, 0], [59.62476348876953, 84.01319026947021, 29.789075255393982, 33.982229232788086, 0.8594934, 0], [45.5391149520874, 84.90947008132935, 302.8658401966095, 84.96779203414917, 0.776306, 0], [59.22531509399414, 83.16072177886963, 23.723649978637695, 28.084006905555725, 0.8704216, 0], [44.69386959075928, 101.7898998260498, 179.21436965465546, 91.18792772293091, 0.6265644, 0], [56.503549575805664, 100.92098999023438, 38.815757632255554, 47.830630838871, 0.75554615, 0], [44.811482429504395, 101.62438869476318, 217.11912333965302, 90.93752145767212, 0.75071865, 0], [59.216569900512695, 99.98558115959167, 34.513938426971436, 30.576342344284058, 0.8464799, 0], [41.031920433044434, 104.83943939208984, 6.43205851316452, 22.529134154319763, 0.6061414, 0], [46.54214668273926, 100.98960018157959, 291.4065891504288, 73.4675145149231, 0.7609037, 0], [58.9718017578125, 99.02851796150208, 27.299636602401733, 24.389362335205078, 0.866375, 0], [41.47613716125488, 121.71240139007568, 13.26335534453392, 33.12652230262756, 0.602466, 0], [48.10909843444824, 118.01128244400024, 180.53993046283722, 72.60883450508118, 0.6239249, 0], [56.933916091918945, 116.21428108215332, 33.39985907077789, 33.98895487189293, 0.7338644, 0], [39.487356662750244, 121.01850032806396, 12.377060651779175, 29.711793065071106, 0.6372034, 0], [49.54286003112793, 117.53692388534546, 245.1322442293167, 59.395779967308044, 0.6456835, 0], [56.93596267700195, 115.42275404930115, 27.808773517608643, 29.091189801692963, 0.756878, 0], [83.61180114746094, 7.0833845138549805, 190.6081148982048, 88.31734955310822, 0.62790173, 0], [84.02889060974121, 5.199833393096924, 31.197580695152283, 72.41263389587402, 0.6812542, 0], [73.94719123840332, 8.175128936767578, 14.286011010408401, 26.419896483421326, 0.602368, 0], [83.60492134094238, 6.620773792266846, 233.49286139011383, 92.81124770641327, 0.68695104, 0], [85.69638252258301, 4.900634288787842, 32.87350535392761, 57.634368538856506, 0.7352648, 0], [83.14022254943848, 20.818761348724365, 38.30538094043732, 69.71854269504547, 0.6396544, 0], [75.25888919830322, 24.420530319213867, 16.534308046102524, 27.360105514526367, 0.64064676, 0], [84.32125663757324, 22.251710891723633, 293.18344473838806, 85.48153400421143, 0.6529715, 0], [84.97746658325195, 20.648489952087402, 41.27191603183746, 54.74219620227814, 0.7141198, 0], [83.9763240814209, 37.3489785194397, 43.20903718471527, 70.10678797960281, 0.6394766, 0], [85.81368446350098, 86.68939018249512, 48.2622355222702, 79.75669205188751, 0.6235297, 0], [85.40872192382812, 86.25740814208984, 45.086583495140076, 69.65882331132889, 0.61275524, 0], [85.05573272705078, 102.24789190292358, 47.26838767528534, 71.0407242178917, 0.616897, 0], [84.81417465209961, 101.8346676826477, 43.433475494384766, 70.23021429777145, 0.61365706, 0], [113.32931327819824, 6.338913917541504, 144.64647740125656, 46.45192593336105, 0.6917853, 0], [121.3060531616211, 2.745645761489868, 16.322289407253265, 20.52382081747055, 0.8371597, 0], [99.51166605949402, 10.124741554260254, 2.3088987544178963, 8.012886643409729, 0.64046293, 0], [115.11368751525879, 5.486530780792236, 243.64016354084015, 42.02566146850586, 0.87507516, 0], [124.66472053527832, 1.8888092041015625, 16.30854904651642, 6.225075200200081, 0.94544286, 0], [100.18347501754761, 9.674718856811523, 1.8489637970924377, 7.5602129101753235, 0.6760173, 0], [115.05695724487305, 5.206040859222412, 319.56162095069885, 52.74445861577988, 0.89492816, 0], [124.85329055786133, 1.9491561651229858, 19.886507093906403, 6.8891242146492, 0.9514632, 0], [119.83053016662598, 18.712712049484253, 23.737584054470062, 23.657318204641342, 0.7881616, 0], [100.38057851791382, 26.558008193969727, 3.764345794916153, 7.54039853811264, 0.7167949, 3], [118.14446640014648, 20.837167263031006, 328.7870764732361, 33.70901584625244, 0.82176095, 0], [123.66914558410645, 17.508887767791748, 22.593113780021667, 5.812396667897701, 0.93372566, 0], [100.9934892654419, 25.795083045959473, 2.924816869199276, 6.187364459037781, 0.7667589, 3], [117.64667892456055, 20.501176357269287, 442.99938201904297, 35.91635376214981, 0.85819316, 0], [123.73802185058594, 17.481754422187805, 29.602134227752686, 5.4626114666461945, 0.9485931, 0], [100.95932388305664, 42.66572189331055, 16.07867032289505, 16.18503749370575, 0.62504864, 0], [118.11382293701172, 37.20677375793457, 304.3161565065384, 36.27569645643234, 0.6659419, 0], [120.99689292907715, 34.34669351577759, 34.07001495361328, 13.745718821883202, 0.82386726, 0], [101.49152755737305, 41.29218101501465, 11.280621588230133, 11.990412175655365, 0.6888429, 0], [116.95661926269531, 37.181145668029785, 410.65425157546997, 32.627752125263214, 0.72392297, 0], [120.29257202148438, 34.307090282440186, 42.690739035606384, 13.089821487665176, 0.86128366, 0], [116.2386531829834, 52.876014709472656, 43.513986468315125, 51.56027376651764, 0.63747716, 0], [115.54757690429688, 52.92711591720581, 50.228339433670044, 53.03451865911484, 0.6715173, 0], [114.38317489624023, 70.847665309906, 39.8369163274765, 95.8990752696991, 0.61110383, 0], [114.23428153991699, 70.90240478515625, 43.93344521522522, 111.10403537750244, 0.6002019, 0], [113.28940010070801, 87.73230361938477, 193.34399938583374, 91.82545006275177, 0.6040365, 0], [114.9136734008789, 87.06805181503296, 36.576130986213684, 91.13872647285461, 0.6259533, 0], [113.02919006347656, 87.40274572372437, 221.0049945116043, 94.49341237545013, 0.64884734, 0], [115.65609931945801, 86.50221395492554, 36.526668071746826, 85.41077971458435, 0.6735564, 0], [112.57424926757812, 87.40107822418213, 235.95906138420105, 102.34540462493896, 0.65365446, 0], [115.27771377563477, 86.47754001617432, 39.84501659870148, 102.78472602367401, 0.6603631, 0], [113.46820068359375, 103.18181371688843, 221.8380582332611, 95.61405122280121, 0.6113391, 0], [115.62980651855469, 102.38692331314087, 39.692285656929016, 82.66317844390869, 0.65378517, 0], [113.16603088378906, 102.98192310333252, 248.9762532711029, 100.61358094215393, 0.662322, 0], [116.5264892578125, 101.96760749816895, 41.75713658332825, 77.1519809961319, 0.7018102, 0], [113.3495922088623, 102.89840984344482, 269.54531967639923, 105.53695678710938, 0.66001016, 0], [116.18111419677734, 101.95960855484009, 43.387436866760254, 90.79157710075378, 0.68066984, 0], [114.72447395324707, 117.98458909988403, 44.31242644786835, 84.08925533294678, 0.6332307, 0], [109.09542655944824, 120.11019229888916, 18.222690522670746, 30.85695505142212, 0.60622823, 0], [114.22993278503418, 118.67842102050781, 274.32532489299774, 87.05074965953827, 0.62062836, 0], [115.55129051208496, 117.60637760162354, 46.446776390075684, 71.82098776102066, 0.68425953, 0], [109.41348552703857, 119.6522650718689, 18.131694197654724, 32.674816846847534, 0.62115425, 0], [114.15354537963867, 118.7089056968689, 287.0186656713486, 94.11738991737366, 0.62605524, 0], [115.39284324645996, 117.72958898544312, 48.43072295188904, 85.38003265857697, 0.6660059, 0], [151.91390419006348, 3.9092016220092773, 27.717268466949463, 40.697166323661804, 0.7030526, 0], [141.35519981384277, 5.572223663330078, 147.73408442735672, 48.417282700538635, 0.7624086, 0], [156.78431701660156, 2.002896308898926, 20.895549654960632, 10.4991864413023, 0.89715344, 0], [141.98684310913086, 4.900699138641357, 287.3371893167496, 39.384813606739044, 0.8832968, 0], [158.06011962890625, 1.2191921472549438, 16.72329306602478, 5.081035941839218, 0.9538551, 0], [132.6908826828003, 10.162857055664062, 1.607854776084423, 9.823174774646759, 0.6138205, 0], [142.80499458312988, 4.977653980255127, 368.24512779712677, 42.57029116153717, 0.890878, 0], [157.71175575256348, 1.3719643354415894, 17.76563972234726, 6.187284551560879, 0.9506428, 0], [150.87006950378418, 19.71216106414795, 34.479835629463196, 40.63681662082672, 0.65292645, 0], [141.92235660552979, 21.038052082061768, 136.196448802948, 41.50106191635132, 0.655912, 0], [154.96416473388672, 17.765064358711243, 24.168717861175537, 12.034231424331665, 0.87689793, 0], [133.2005114555359, 27.56722068786621, 2.177926730364561, 6.796402931213379, 0.65244585, 0], [144.57602310180664, 20.569973945617676, 309.74039375782013, 26.59796178340912, 0.8357809, 0], [157.09727478027344, 16.976548671722412, 20.371247828006744, 3.9969968609511852, 0.9482398, 0], [133.0351414680481, 26.47422218322754, 2.1142799966037273, 7.382939904928207, 0.68817365, 3], [145.5528793334961, 20.390177726745605, 407.14091181755066, 28.60086441040039, 0.85582787, 0], [156.99357223510742, 17.04311716556549, 20.28777152299881, 4.49555916711688, 0.95023465, 0], [150.98705291748047, 34.82251739501953, 34.54669415950775, 28.406137973070145, 0.64777267, 0], [144.54695510864258, 37.56034517288208, 221.20435893535614, 22.750165164470673, 0.64193785, 0], [153.14825248718262, 33.47301411628723, 25.85541605949402, 9.776059538125992, 0.84316194, 0], [146.1215648651123, 37.25263833999634, 287.69039034843445, 20.874103158712387, 0.68766874, 0], [152.87218856811523, 33.475037932395935, 24.296241998672485, 8.472347259521484, 0.86891615, 0], [148.28734016418457, 51.79576921463013, 34.75348949432373, 40.65103232860565, 0.6453878, 0], [147.39947509765625, 51.566994428634644, 35.05872189998627, 35.99236384034157, 0.69685835, 0], [148.1752758026123, 86.29592704772949, 37.00239062309265, 83.05635452270508, 0.64922786, 0], [144.28050231933594, 86.9843955039978, 249.59279716014862, 95.68240940570831, 0.63050944, 0], [148.24398040771484, 86.11970567703247, 35.65601706504822, 80.1865428686142, 0.67486334, 0], [144.40615844726562, 86.96225595474243, 264.9696397781372, 100.40836870670319, 0.6197091, 0], [147.4022388458252, 86.28633546829224, 37.72701621055603, 96.04044556617737, 0.6482472, 0], [146.9881534576416, 102.80059623718262, 45.216166973114014, 105.29220700263977, 0.6034441, 0], [143.61198806762695, 103.0583906173706, 237.80500292778015, 104.29225564002991, 0.6147221, 0], [148.6124210357666, 102.15735960006714, 42.75625944137573, 83.57592523097992, 0.6644502, 0], [143.9025764465332, 102.87699460983276, 265.204781293869, 101.87517821788788, 0.6404962, 0], [148.9346923828125, 101.78459548950195, 40.67039489746094, 77.76065468788147, 0.69281566, 0], [144.2821388244629, 102.82289361953735, 283.86849761009216, 101.71287834644318, 0.6308758, 0], [148.09955978393555, 101.80238008499146, 41.511574387550354, 93.19645464420319, 0.66354966, 0], [147.80411911010742, 118.20605850219727, 44.18644607067108, 88.7286365032196, 0.6203722, 0], [144.66437911987305, 118.75585603713989, 267.724769115448, 90.363210439682, 0.6012678, 0], [148.01398468017578, 117.5885362625122, 42.0589953660965, 78.86041402816772, 0.66278464, 0], [141.6495485305786, 119.79017114639282, 18.208327293395996, 38.10164451599121, 0.6017632, 0], [147.54137802124023, 117.60301446914673, 43.002915382385254, 90.13912975788116, 0.64424896, 0], [186.35588455200195, 2.649850606918335, 13.014255464076996, 17.003419250249863, 0.60669076, 0], [190.23670196533203, 1.6095937490463257, 6.8749092519283295, 5.305330641567707, 0.7978503, 0], [183.44198989868164, 1.6905436515808105, 144.546819627285, 41.31234258413315, 0.70469916, 0], [191.1764259338379, 2.0957775115966797, 6.969953328371048, 3.8171066902577877, 0.89308906, 0], [182.85108184814453, 2.470618486404419, 158.17671865224838, 53.36953341960907, 0.7896706, 0], [190.85629653930664, 2.2447636127471924, 8.66166353225708, 4.245731793344021, 0.91195023, 0], [191.2590160369873, 16.833010971546173, 2.1894389763474464, 1.746266009286046, 0.66695726, 0], [190.72974967956543, 16.75887155532837, 34.3168019503355, 18.386497348546982, 0.6171453, 2], [191.80317878723145, 16.689109325408936, 1.1384443379938602, 0.4725212696939707, 0.92246854, 4], [189.3745994567871, 17.43605148792267, 42.405143454670906, 21.986159533262253, 0.8397977, 2], [191.71221733093262, 16.696590662002563, 1.4593889936804771, 0.44772501569241285, 0.97117597, 4], [191.61343383789062, 32.235817953944206, 0.5094851367175579, 0.30380026437342167, 0.8888102, 4], [190.98515129089355, 33.2700080871582, 56.299011558294296, 8.027039617300034, 0.85019386, 2], [191.61653900146484, 32.163563653826714, 0.6172491703182459, 0.11617705458775163, 0.9850691, 4], [190.48396492004395, 48.14005523920059, 0.8902440778911114, 0.5888821324333549, 0.7857053, 4], [191.22249031066895, 49.034388422966, 192.9077461361885, 6.4848679304122925, 0.8623297, 2], [191.46414375305176, 48.074640192091465, 1.1015660129487514, 0.06973219569772482, 0.9882614, 4], [189.44397163391113, 64.30908370018005, 3.533775731921196, 1.511735050007701, 0.6911294, 0], [190.41643714904785, 65.14736986160278, 357.84838795661926, 7.473086565732956, 0.8392253, 2], [190.97917556762695, 64.14734128117561, 3.456493467092514, 0.1668302051257342, 0.98047465, 4], [187.21535301208496, 81.59636104106903, 311.48814380168915, 11.393974348902702, 0.67727107, 0], [190.0477237701416, 80.57012099027634, 6.7803651094436646, 1.253242464736104, 0.90781116, 0], [186.76410102844238, 98.50650429725647, 14.24655169248581, 16.085806488990784, 0.6753919, 0], [216.6643352508545, 6.429159164428711, 107.79586493968964, 24.532810002565384, 0.68351924, 0], [221.4846305847168, 3.1499552726745605, 7.737421244382858, 11.52922511100769, 0.71587116, 0], [211.79629516601562, 7.9460062980651855, 75.08318230509758, 14.47959378361702, 0.9536951, 0], [222.53844451904297, 1.628480076789856, 3.860601782798767, 2.033358905464411, 0.9702574, 0], [203.3120880126953, 2.6243762969970703, 2.582675814628601, 634.4308662414551, 0.6093713, 0], [207.60036945343018, 8.137120246887207, 104.46879088878632, 21.027371436357498, 0.97798735, 0], [222.53969192504883, 1.5403515100479126, 4.607466608285904, 1.9365178886801004, 0.9862708, 0], [220.9154567718506, 23.136590480804443, 53.25971215963364, 2.9905653931200504, 0.90976495, 2], [223.27455139160156, 16.698787331581116, 0.6107422988861799, 0.6730631925165653, 0.95207566, 0], [194.6409375667572, 16.616024374961853, 0.09891058318316936, 5331.701202392578, 0.6407792, 0], [215.19518280029297, 25.83399772644043, 35.24876892566681, 0.8053353149443865, 0.99924433, 0], [223.89756393432617, 16.06956610828638, 0.17515013460069895, 0.008062066990532912, 0.9997974, 0], [198.3720531463623, 16.233696058392525, 0.12634247541427612, 2870.771942138672, 0.8460589, 1], [210.7923355102539, 25.95971393585205, 71.99054718017578, 1.9072478450834751, 0.9998307, 3], [223.9520606994629, 16.075842529535294, 0.40803495794534683, 0.005875321767234709, 0.9999405, 0], [218.50606155395508, 38.47340440750122, 58.7973290681839, 0.5070254392921925, 0.95748264, 2], [223.39341926574707, 32.10664443671703, 0.1483099185861647, 0.0936070951865986, 0.9925713, 4], [195.3334984779358, 32.08097552508116, 0.022583042737096548, 20860.801391601562, 0.72436595, 0], [217.72379875183105, 37.68010234832764, 88.93854543566704, 0.2113499748520553, 0.9999473, 2], [223.99216270446777, 32.00323940720409, 0.057836517225950956, 9.886190639463166e-05, 0.999997, 0], [197.50798845291138, 32.009326066821814, 0.023357493337243795, 22395.020141601562, 0.8302168, 1], [192.00006909624062, 43.48516082763672, 5.8794734627554135e-05, 0.0011945009828195907, 0.67566377, 3], [220.32520294189453, 35.63550353050232, 260.38051903247833, 0.9502793848514557, 0.99999297, 2], [223.99905395507812, 32.00250794366002, 0.1575047615915537, 2.6721967572029826e-05, 0.9999994, 0], [220.36322784423828, 49.75533473491669, 109.56230998039246, 0.7653552992269397, 0.85345846, 2], [223.44576835632324, 48.02926046773791, 0.20027749706059694, 0.06346206937450916, 0.99411726, 4], [196.79641819000244, 48.02895305119455, 0.04980724770575762, 61364.666748046875, 0.67610085, 0], [192.00018152344273, 62.86379623413086, 0.0003199610773663153, 0.0017816386753111146, 0.79050475, 3], [222.21349906921387, 49.302584290504456, 612.5934529304504, 0.23429599590599537, 0.99991107, 2], [223.9971046447754, 48.00051604839973, 0.12016426771879196, 1.7465562862639672e-05, 0.99999845, 4], [199.74585151672363, 48.00268500018865, 0.08899355307221413, 73286.43310546875, 0.89151055, 1], [192.00018747948343, 63.42224311828613, 2.718795201417379e-05, 0.0008796432484814432, 0.9397541, 3], [223.27528381347656, 48.67601501941681, 2568.5893392562866, 0.7254307065159082, 0.99999034, 2], [223.99966430664062, 48.00026104931021, 0.28486258815973997, 2.2055401505127747e-06, 0.99999976, 4], [223.46527099609375, 64.05750403553247, 1.0878361761569977, 0.1742999826092273, 0.91636, 4], [192.00038732247776, 79.78749942779541, 0.03253937902627513, 0.02345539745874703, 0.90144247, 3], [223.8358497619629, 64.46172159910202, 3678.977527618408, 0.23794566746801138, 0.99786514, 2], [223.99146842956543, 64.00045193350525, 0.6868371274322271, 4.918776426166005e-05, 0.9999653, 4], [202.2107515335083, 64.01142884790897, 0.6960270553827286, 158000.8154296875, 0.8755441, 4], [192.00039001274854, 79.57132911682129, 0.0009098411464947276, 0.0016993156168609858, 0.9868803, 3], [223.7832317352295, 64.23766727745533, 18105.366897583008, 0.19483669777400792, 0.9998956, 2], [223.99769592285156, 64.00014153926168, 2.3185711354017258, 3.330332809525771e-06, 0.9999989, 4], [192.0035007710103, 95.76472473144531, 15.635815560817719, 1.1648622527718544, 0.6902165, 3], [223.76027488708496, 80.67671674489975, 1352.1745657920837, 0.8875749632716179, 0.8965501, 2], [223.85188484191895, 80.01017047744244, 4.019462689757347, 0.005922577474848367, 0.99452305, 4], [192.00603035325184, 95.45489311218262, 0.19124372163787484, 0.03727335948497057, 0.97297657, 3], [223.53643798828125, 80.16464832425117, 10169.659900665283, 0.5511785205453634, 0.9924567, 2], [223.9587516784668, 80.00253380509093, 21.133500337600708, 0.0004216597631057084, 0.99989533, 4], [222.31076049804688, 96.59964203834534, 20.84357589483261, 1.7231558449566364, 0.78465927, 4], [192.21592739224434, 110.39395141601562, 14.060200601816177, 2.732238247990608, 0.84825015, 3], [221.47946739196777, 96.60157638788223, 1704.4009160995483, 6.215654723346233, 0.8024224, 2], [223.0258445739746, 96.20019072294235, 47.738370299339294, 0.299221056047827, 0.9808038, 4], [197.45608758926392, 122.36040782928467, 34.69863086938858, 27.022554874420166, 0.6343935, 0], [215.27264595031738, 115.68252515792847, 53.21049094200134, 29.432469606399536, 0.732022, 0], [249.33585929870605, 2.2677512168884277, 12.71238625049591, 26.741923391819, 0.61739004, 0], [253.88612365722656, 0.8186787366867065, 4.225209355354309, 7.185237854719162, 0.8900924, 0], [238.87406158447266, 3.2011780738830566, 221.44294619560242, 36.923427283763885, 0.84557724, 2], [255.21369743347168, 1.0637685060501099, 5.3216129541397095, 5.742702819406986, 0.93071324, 0], [239.99345302581787, 2.8908913135528564, 307.80486285686493, 28.924100399017334, 0.8450496, 2], [254.67902946472168, 0.7551082968711853, 2.9738936573266983, 5.3038280457258224, 0.9395114, 0], [254.16864204406738, 16.545807540416718, 5.080623924732208, 4.106422886252403, 0.82962525, 2], [229.0826530456543, 16.31127741932869, 72.42177233099937, 9.88796018064022, 0.7930166, 2], [255.90102195739746, 16.072389490902424, 0.5311957560479641, 0.3729387419298291, 0.99418056, 2], [228.48303127288818, 16.847375571727753, 200.85577130317688, 13.438304290175438, 0.99056643, 2], [255.99104118347168, 16.050063092261553, 0.5210233386605978, 0.07812328403815627, 0.9992004, 0], [233.73179054260254, 16.348570197820663, 556.2977588176727, 3.958311937749386, 0.9886875, 2], [255.98122024536133, 16.009868794120848, 0.12174258008599281, 0.023301527107832953, 0.9995652, 0], [249.65198516845703, 34.70244097709656, 21.30378782749176, 18.69850941002369, 0.63316345, 0], [255.1515235900879, 32.4604035615921, 5.184008181095123, 2.003050083294511, 0.9096008, 2], [225.1490888595581, 32.09326934069395, 50.01014903187752, 15.898447334766388, 0.9094877, 2], [255.9898681640625, 32.0390571244061, 0.36630001850426197, 0.09580389596521854, 0.99934155, 2], [224.6913686990738, 32.252600610256195, 163.21693867444992, 6.726857274770737, 0.99921286, 2], [255.99972534179688, 32.004514968022704, 0.2759936498478055, 0.001985276003324543, 0.99998975, 0], [229.18429040908813, 32.05166209489107, 1415.2944469451904, 0.7362891081720591, 0.9992582, 2], [255.9994239807129, 32.00025805088808, 0.02863557601813227, 0.00018961032424158475, 0.9999969, 0], [255.26305389404297, 48.72323560714722, 13.472653925418854, 2.669003326445818, 0.8377172, 0], [224.72510427236557, 48.16894255578518, 31.901793256402016, 20.667119026184082, 0.9157592, 2], [255.99273109436035, 48.045513316988945, 1.0765599086880684, 0.09987456724047661, 0.9991704, 0], [224.25052803754807, 48.24327723681927, 102.35350698232651, 5.7396721094846725, 0.99953794, 2], [255.9998435974121, 48.00196008500643, 0.44255382381379604, 0.0007567145075881854, 0.9999969, 2], [224.00234606023878, 62.26736068725586, 0.0006112347455200506, 0.042243360076099634, 0.78800625, 3], [228.4500813484192, 48.025908660143614, 2109.538359642029, 0.4529665457084775, 0.9996432, 2], [255.99980926513672, 48.000062226135924, 0.04464101220946759, 3.29169822066433e-05, 0.9999994, 2], [224.5627436041832, 64.45349279046059, 10.591808557510376, 0.7525843568146229, 0.6321724, 0], [254.84724617004395, 64.92277783155441, 29.357579350471497, 4.895396903157234, 0.6103892, 0], [226.83990812301636, 64.39280933141708, 18.12935557216406, 21.65866509079933, 0.6113914, 0], [255.96860122680664, 64.12831249833107, 4.339160397648811, 0.2608318522106856, 0.98658854, 4], [224.00401296978816, 79.47835731506348, 0.016295769601128995, 0.4743480496108532, 0.74723953, 3], [228.22186708450317, 64.2013131082058, 48.37846681475639, 1.7668688483536243, 0.991911, 2], [255.99949645996094, 64.0019717188552, 0.3746377071365714, 0.00045576335878649843, 0.9999366, 4], [224.00046658539213, 79.15956401824951, 0.005924010547460057, 0.1443496299907565, 0.8968585, 3], [242.0057315826416, 64.03075728192925, 1669.909257888794, 0.26219382183626294, 0.9973341, 2], [255.99966049194336, 64.00010708867194, 0.0778603192884475, 4.564347193536378e-05, 0.9999894, 4], [224.11569505929947, 80.12370403110981, 6.769124269485474, 0.4755275323987007, 0.6547664, 0], [255.62308311462402, 80.54271852970123, 13.196539878845215, 2.992105297744274, 0.6962825, 0], [232.87059688568115, 80.8576734662056, 22.00119785964489, 2.135908827185631, 0.80056757, 2], [255.97330856323242, 80.0144457584247, 0.6058553699404001, 0.020057614892721176, 0.99005646, 4], [224.00076302239904, 94.9906644821167, 1.6752796806395054, 1.993788331747055, 0.69234085, 3], [247.6540470123291, 80.25086435675621, 428.0924069881439, 0.1670460042078048, 0.8970804, 2], [255.9723834991455, 80.00174361036625, 0.19492293940857053, 0.0017521702829981223, 0.99727374, 4], [254.4598903656006, 96.39844557642937, 3.1531739979982376, 3.1135990284383297, 0.7180954, 0], [254.27467155456543, 96.1375235170126, 1.6691109165549278, 0.817633350379765, 0.84183866, 0], [287.4500141143799, 32.563111901283264, 17.33544021844864, 2.714314218610525, 0.6800489, 0], [269.13083839416504, 33.77482187747955, 197.91345983743668, 48.995789885520935, 0.7191706, 2], [287.8427982330322, 32.70282161235809, 50.79495906829834, 1.4012699481099844, 0.8458744, 0], [277.32060623168945, 32.83543449640274, 216.1072963476181, 17.227729111909866, 0.6044552, 0], [287.83416175842285, 32.28623282909393, 13.473042845726013, 0.32183134462684393, 0.85296065, 0], [287.67456245422363, 48.647917449474335, 30.22373616695404, 2.4288936518132687, 0.7484614, 0], [266.27183532714844, 48.719299137592316, 158.15448015928268, 67.83986449241638, 0.7434715, 2], [287.9071846008301, 48.39636543393135, 50.89345574378967, 0.5274146678857505, 0.94531083, 0], [273.54742431640625, 48.43684974312782, 197.4538317322731, 18.807854801416397, 0.69173634, 2], [287.90686225891113, 48.15210875868797, 13.242034614086151, 0.1224934560013935, 0.94855696, 0], [287.82653427124023, 64.35712713003159, 26.002192497253418, 0.717680063098669, 0.8612085, 0], [287.855037689209, 64.19916358590126, 10.505851358175278, 0.2586543734651059, 0.86801624, 0]]\n"
     ]
    }
   ],
   "source": [
    "boxes = decode_netout(y_pred)\n",
    "print(len(boxes), boxes)"
   ]
  },
  {
   "cell_type": "code",
   "execution_count": 13,
   "metadata": {},
   "outputs": [
    {
     "ename": "KeyError",
     "evalue": "0",
     "output_type": "error",
     "traceback": [
      "\u001b[0;31m---------------------------------------------------------------------------\u001b[0m",
      "\u001b[0;31mKeyError\u001b[0m                                  Traceback (most recent call last)",
      "\u001b[0;32m<ipython-input-13-81424a4d9a4c>\u001b[0m in \u001b[0;36m<module>\u001b[0;34m\u001b[0m\n\u001b[0;32m----> 1\u001b[0;31m \u001b[0mvisualise_bird_view\u001b[0m\u001b[0;34m(\u001b[0m\u001b[0mframe\u001b[0m\u001b[0;34m,\u001b[0m\u001b[0mnp\u001b[0m\u001b[0;34m.\u001b[0m\u001b[0mexpand_dims\u001b[0m\u001b[0;34m(\u001b[0m\u001b[0mtargets\u001b[0m\u001b[0;34m,\u001b[0m\u001b[0;36m0\u001b[0m\u001b[0;34m)\u001b[0m\u001b[0;34m,\u001b[0m \u001b[0mboxes\u001b[0m\u001b[0;34m)\u001b[0m\u001b[0;34m\u001b[0m\u001b[0;34m\u001b[0m\u001b[0m\n\u001b[0m",
      "\u001b[0;32m~/Рабочий стол/projects/yolo/visualization.py\u001b[0m in \u001b[0;36mvisualise_bird_view\u001b[0;34m(frame, targets, boxes, do_nms, do_photo, nms)\u001b[0m\n\u001b[1;32m     69\u001b[0m         \u001b[0my_b\u001b[0m \u001b[0;34m=\u001b[0m \u001b[0my\u001b[0m \u001b[0;34m+\u001b[0m \u001b[0mh\u001b[0m \u001b[0;34m/\u001b[0m \u001b[0;36m2\u001b[0m\u001b[0;34m\u001b[0m\u001b[0;34m\u001b[0m\u001b[0m\n\u001b[1;32m     70\u001b[0m         \u001b[0mclass_box\u001b[0m \u001b[0;34m=\u001b[0m \u001b[0mbox\u001b[0m\u001b[0;34m[\u001b[0m\u001b[0;36m5\u001b[0m\u001b[0;34m]\u001b[0m\u001b[0;34m\u001b[0m\u001b[0;34m\u001b[0m\u001b[0m\n\u001b[0;32m---> 71\u001b[0;31m         \u001b[0mrect\u001b[0m \u001b[0;34m=\u001b[0m \u001b[0mpatches\u001b[0m\u001b[0;34m.\u001b[0m\u001b[0mRectangle\u001b[0m\u001b[0;34m(\u001b[0m\u001b[0;34m(\u001b[0m\u001b[0mx_t\u001b[0m\u001b[0;34m,\u001b[0m \u001b[0my_t\u001b[0m\u001b[0;34m)\u001b[0m\u001b[0;34m,\u001b[0m \u001b[0mw\u001b[0m\u001b[0;34m,\u001b[0m \u001b[0mh\u001b[0m\u001b[0;34m,\u001b[0m \u001b[0mlinewidth\u001b[0m\u001b[0;34m=\u001b[0m\u001b[0;36m1\u001b[0m\u001b[0;34m,\u001b[0m \u001b[0medgecolor\u001b[0m\u001b[0;34m=\u001b[0m \u001b[0mcolor_dict\u001b[0m\u001b[0;34m[\u001b[0m\u001b[0mclass_box\u001b[0m\u001b[0;34m]\u001b[0m\u001b[0;34m,\u001b[0m \u001b[0mfacecolor\u001b[0m\u001b[0;34m=\u001b[0m\u001b[0;34m'none'\u001b[0m\u001b[0;34m)\u001b[0m\u001b[0;34m\u001b[0m\u001b[0;34m\u001b[0m\u001b[0m\n\u001b[0m\u001b[1;32m     72\u001b[0m         \u001b[0maxs\u001b[0m\u001b[0;34m[\u001b[0m\u001b[0;36m1\u001b[0m\u001b[0;34m]\u001b[0m\u001b[0;34m.\u001b[0m\u001b[0madd_patch\u001b[0m\u001b[0;34m(\u001b[0m\u001b[0mrect\u001b[0m\u001b[0;34m)\u001b[0m\u001b[0;34m\u001b[0m\u001b[0;34m\u001b[0m\u001b[0m\n\u001b[1;32m     73\u001b[0m \u001b[0;34m\u001b[0m\u001b[0m\n",
      "\u001b[0;31mKeyError\u001b[0m: 0"
     ]
    },
    {
     "data": {
      "image/png": "[encoded data removed]",
      "text/plain": [
       "<Figure size 720x720 with 2 Axes>"
      ]
     },
     "metadata": {
      "needs_background": "light"
     },
     "output_type": "display_data"
    }
   ],
   "source": [
    "visualise_bird_view(frame,np.expand_dims(targets,0), boxes)"
   ]
  },
  {
   "cell_type": "code",
   "execution_count": 14,
   "metadata": {},
   "outputs": [
    {
     "data": {
      "image/png": "[encoded data removed]",
      "text/plain": [
       "<Figure size 432x288 with 1 Axes>"
      ]
     },
     "metadata": {
      "needs_background": "light"
     },
     "output_type": "display_data"
    },
    {
     "data": {
      "image/png": "[encoded data removed]",
      "text/plain": [
       "<Figure size 936x936 with 1 Axes>"
      ]
     },
     "metadata": {
      "needs_background": "light"
     },
     "output_type": "display_data"
    },
    {
     "data": {
      "image/png": "[encoded data removed]",
      "text/plain": [
       "<Figure size 936x936 with 1 Axes>"
      ]
     },
     "metadata": {
      "needs_background": "light"
     },
     "output_type": "display_data"
    },
    {
     "data": {
      "image/png": "[encoded data removed]",
      "text/plain": [
       "<Figure size 720x720 with 1 Axes>"
      ]
     },
     "metadata": {
      "needs_background": "light"
     },
     "output_type": "display_data"
    }
   ],
   "source": [
    "histogram_array = np.histogram(frame[0,...,0],bins = 256)\n",
    "cdf = histogram_array[0].cumsum()\n",
    "cdf_normalized = cdf*histogram_array[0].max()/cdf.max()\n",
    "\n",
    "\n",
    "# print(histogram_array)\n",
    "\n",
    "plt.plot(cdf_normalized, color = 'b')\n",
    "plt.hist(frame.flatten(),256, color = 'r')\n",
    "plt.xlim([0,256])\n",
    "plt.legend(('cdf','histogram'), loc = 'upper left')\n",
    "plt.show()\n",
    "\n",
    "cdf_m = np.ma.masked_equal(cdf,0)\n",
    "cdf_m = (cdf_m - cdf_m.min())*255/(cdf_m.max()-cdf_m.min())\n",
    "cdf = np.ma.filled(cdf_m,0).astype('uint8')\n",
    "\n",
    "frame_equalised = cdf[frame[0,...,0]]\n",
    "\n",
    "plt.figure(figsize = (13,13))\n",
    "plt.bar(range(len(histogram_array[0][3:])),histogram_array[0][3:])\n",
    "plt.show()\n",
    "\n",
    "\n",
    "histogram_array_equalised = np.histogram(frame_equalised,bins = 256)\n",
    "plt.figure(figsize = (13,13))\n",
    "plt.bar(range(len(histogram_array_equalised[0][1:])), histogram_array_equalised[0][1:])\n",
    "plt.show()\n",
    "\n",
    "plt.figure(figsize = (10,10))\n",
    "plt.imshow(np.sum(frame_equalised,2))\n",
    "plt.show()"
   ]
  },
  {
   "cell_type": "code",
   "execution_count": 46,
   "metadata": {},
   "outputs": [
    {
     "data": {
      "text/plain": [
       "<matplotlib.image.AxesImage at 0x7f53dd3bf0b8>"
      ]
     },
     "execution_count": 46,
     "metadata": {},
     "output_type": "execute_result"
    },
    {
     "data": {
      "image/png": "[encoded data removed]",
      "text/plain": [
       "<Figure size 432x288 with 1 Axes>"
      ]
     },
     "metadata": {
      "needs_background": "light"
     },
     "output_type": "display_data"
    }
   ],
   "source": [
    "from skimage import data\n",
    "from skimage import filters\n",
    "\n",
    "val = filters.threshold_otsu(frame_equalised)\n",
    "mask = frame_equalised > val\n",
    "\n",
    "plt.imshow(np.sum(mask,2))\n",
    "\n",
    "from skimage import measure\n",
    "all_labels = measure.label(mask)\n",
    "\n",
    "\n",
    "from skimage.morphology import watershed\n",
    "from skimage.feature import peak_local_max\n",
    "import skimage\n",
    "\n",
    "\n",
    "from scipy import ndimage\n",
    "distance = ndimage.distance_transform_edt(frame_equalised)\n",
    "local_maxi = peak_local_max(distance, indices=False, footprint=np.ones((3, 3,3)), labels=frame_equalised)\n",
    "markers = skimage.morphology.label(local_maxi)\n",
    "labels_ws = watershed(-distance, markers, mask=frame_equalised)\n"
   ]
  },
  {
   "cell_type": "code",
   "execution_count": 51,
   "metadata": {},
   "outputs": [
    {
     "data": {
      "application/vnd.jupyter.widget-view+json": {
       "model_id": "aa83e60e74724245ba4e969457023752",
       "version_major": 2,
       "version_minor": 0
      },
      "text/plain": [
       "interactive(children=(IntSlider(value=19, description='x', max=39), Output()), _dom_classes=('widget-interact'…"
      ]
     },
     "metadata": {},
     "output_type": "display_data"
    },
    {
     "data": {
      "text/plain": [
       "<function __main__.f(x)>"
      ]
     },
     "execution_count": 51,
     "metadata": {},
     "output_type": "execute_result"
    }
   ],
   "source": [
    "from ipywidgets import interact\n",
    "\n",
    "# mask = mask.astype(np.int8)\n",
    "\n",
    "\n",
    "def f(x):\n",
    "    plt.figure(figsize = (15,15))\n",
    "    if x in list(range(all_labels.shape[-1])):\n",
    "        plt.imshow(all_labels[...,x])\n",
    "    return x\n",
    "\n",
    "\n",
    "interact(f,x = (0, all_labels.shape[-1]-1))"
   ]
  },
  {
   "cell_type": "code",
   "execution_count": 72,
   "metadata": {},
   "outputs": [
    {
     "data": {
      "text/plain": [
       "<Figure size 648x648 with 0 Axes>"
      ]
     },
     "metadata": {},
     "output_type": "display_data"
    },
    {
     "data": {
      "application/vnd.jupyter.widget-view+json": {
       "model_id": "5351e6d90630455a95603502c1f10a23",
       "version_major": 2,
       "version_minor": 0
      },
      "text/plain": [
       "interactive(children=(IntSlider(value=19, description='x', max=39), Output()), _dom_classes=('widget-interact'…"
      ]
     },
     "metadata": {},
     "output_type": "display_data"
    },
    {
     "data": {
      "text/plain": [
       "<function __main__.f(x)>"
      ]
     },
     "execution_count": 72,
     "metadata": {},
     "output_type": "execute_result"
    }
   ],
   "source": [
    "def f(x):\n",
    "    if x in list(range(labels_ws.shape[-1])):\n",
    "        plt.imshow(labels_ws[...,x])\n",
    "    return x\n",
    "\n",
    "plt.figure(figsize = (9,9))\n",
    "interact(f,x = (0, labels_ws.shape[-1]-1))"
   ]
  },
  {
   "cell_type": "code",
   "execution_count": 53,
   "metadata": {},
   "outputs": [],
   "source": [
    "import scipy.ndimage\n",
    "targets_generated = scipy.ndimage.find_objects(all_labels)"
   ]
  },
  {
   "cell_type": "code",
   "execution_count": 70,
   "metadata": {},
   "outputs": [],
   "source": [
    "def filtering_boxes(bounds):\n",
    "    min_size = 600\n",
    "    \n",
    "    dim_size = [item_dim[1] - item_dim[0] for item_dim in bounds]\n",
    "    \n",
    "    box_prod = np.prod(dim_size)\n",
    "    \n",
    "    print(dim_size)\n",
    "    print(box_prod)\n",
    "    print(box_prod < min_size)\n",
    "    if box_prod > min_size:\n",
    "        return bounds\n",
    "    else:\n",
    "        return 0"
   ]
  },
  {
   "cell_type": "code",
   "execution_count": 74,
   "metadata": {},
   "outputs": [
    {
     "name": "stdout",
     "output_type": "stream",
     "text": [
      "[12, 34, 10]\n",
      "4080\n",
      "False\n",
      "[(31, 43), (94, 128), (30, 40)]\n",
      "37.0 111.0 35.0 12 34 10\n",
      "[8, 10, 1]\n",
      "80\n",
      "True\n",
      "[14, 33, 9]\n",
      "4158\n",
      "False\n",
      "[(43, 57), (86, 119), (22, 31)]\n",
      "50.0 102.5 26.5 14 33 9\n",
      "[12, 18, 3]\n",
      "648\n",
      "False\n",
      "[(71, 83), (16, 34), (37, 40)]\n",
      "77.0 25.0 38.5 12 18 3\n",
      "[11, 42, 9]\n",
      "4158\n",
      "False\n",
      "[(126, 137), (0, 42), (28, 37)]\n",
      "131.5 21.0 32.5 11 42 9\n",
      "[8, 6, 7]\n",
      "336\n",
      "True\n",
      "[7, 24, 8]\n",
      "1344\n",
      "False\n",
      "[(143, 150), (9, 33), (19, 27)]\n",
      "146.5 21.0 23.0 7 24 8\n",
      "[5, 25, 3]\n",
      "375\n",
      "True\n",
      "[13, 37, 8]\n",
      "3848\n",
      "False\n",
      "[(152, 165), (3, 40), (24, 32)]\n",
      "158.5 21.5 28.0 13 37 8\n",
      "[5, 12, 3]\n",
      "180\n",
      "True\n",
      "[14, 33, 9]\n",
      "4158\n",
      "False\n",
      "[(156, 170), (0, 33), (12, 21)]\n",
      "163.0 16.5 16.5 14 33 9\n",
      "[2, 8, 1]\n",
      "16\n",
      "True\n",
      "[10, 43, 8]\n",
      "3440\n",
      "False\n",
      "[(180, 190), (5, 48), (28, 36)]\n",
      "185.0 26.5 32.0 10 43 8\n",
      "[1, 5, 1]\n",
      "5\n",
      "True\n",
      "[8, 25, 5]\n",
      "1000\n",
      "False\n",
      "[(184, 192), (11, 36), (11, 16)]\n",
      "188.0 23.5 13.5 8 25 5\n",
      "[15, 108, 27]\n",
      "43740\n",
      "False\n",
      "[(228, 243), (20, 128), (13, 40)]\n",
      "235.5 74.0 26.5 15 108 27\n",
      "[4, 7, 1]\n",
      "28\n",
      "True\n",
      "[1, 4, 1]\n",
      "4\n",
      "True\n",
      "[2, 9, 1]\n",
      "18\n",
      "True\n",
      "[13, 67, 15]\n",
      "13065\n",
      "False\n",
      "[(254, 267), (48, 115), (25, 40)]\n",
      "260.5 81.5 32.5 13 67 15\n",
      "11\n"
     ]
    }
   ],
   "source": [
    "targets_matric = np.zeros((len(targets_generated), 2*N_DIM))\n",
    "\n",
    "count = 0\n",
    "bounding_boxes = []\n",
    "for ind in range(len(targets_generated)):\n",
    "    item = targets_generated[ind]\n",
    "    bounds = [(item[j].start,item[j].stop) for j in range(len(item))]\n",
    "    bounds_processed = filtering_boxes(bounds)\n",
    "    if bounds_processed == 0:\n",
    "        continue\n",
    "    count += 1\n",
    "#     print(bounds)\n",
    "    bbox = []\n",
    "    for dim in range(len(bounds)):\n",
    "        start = bounds[dim][0]\n",
    "        end = bounds[dim][1]\n",
    "        center = (end + start)/2\n",
    "        width = (end - start)\n",
    "        bbox.append([center,width])\n",
    "#     print(bbox[0][0], bbox[1][0], bbox[2][0],bbox[0][1], bbox[1][1], bbox[2][1])\n",
    "    bounding_boxes.append([bbox[0][0], bbox[1][0], bbox[2][0],bbox[0][1], bbox[1][1], bbox[2][1]])\n",
    "    \n",
    "print(count)\n",
    "\n",
    "# np.array(bounding_boxes)"
   ]
  },
  {
   "cell_type": "code",
   "execution_count": 76,
   "metadata": {},
   "outputs": [
    {
     "name": "stdout",
     "output_type": "stream",
     "text": [
      "[37.0, 111.0, 35.0, 12, 34, 10]\n",
      "[50.0, 102.5, 26.5, 14, 33, 9]\n",
      "[77.0, 25.0, 38.5, 12, 18, 3]\n",
      "[131.5, 21.0, 32.5, 11, 42, 9]\n",
      "[146.5, 21.0, 23.0, 7, 24, 8]\n",
      "[158.5, 21.5, 28.0, 13, 37, 8]\n",
      "[163.0, 16.5, 16.5, 14, 33, 9]\n",
      "[185.0, 26.5, 32.0, 10, 43, 8]\n",
      "[188.0, 23.5, 13.5, 8, 25, 5]\n",
      "[235.5, 74.0, 26.5, 15, 108, 27]\n",
      "[260.5, 81.5, 32.5, 13, 67, 15]\n"
     ]
    },
    {
     "data": {
      "image/png": "[encoded data removed]",
      "text/plain": [
       "<Figure size 648x648 with 1 Axes>"
      ]
     },
     "metadata": {
      "needs_background": "light"
     },
     "output_type": "display_data"
    }
   ],
   "source": [
    "im = np.sum(frame,axis = (0,3,4))\n",
    "\n",
    "fig,ax = plt.subplots(1, figsize = (9,9))\n",
    "\n",
    "# Display the image\n",
    "ax.imshow(im)\n",
    "\n",
    "\n",
    "\n",
    "for box in bounding_boxes:\n",
    "    x = box[1]\n",
    "    y = box[0]\n",
    "    w = box[4]\n",
    "    h = box[3]\n",
    "    print(box)\n",
    "    x_t = x-w/2\n",
    "    x_b = x+w/2 \n",
    "    y_t = y-h/2\n",
    "    y_b = y+h/2\n",
    "    rect = patches.Rectangle((x_t,y_t),w,h,linewidth=1,edgecolor='r',facecolor='none')\n",
    "    ax.add_patch(rect)\n",
    "\n",
    "plt.show()"
   ]
  }
 ],
 "metadata": {
  "kernelspec": {
   "display_name": "Python 3",
   "language": "python",
   "name": "python3"
  },
  "language_info": {
   "codemirror_mode": {
    "name": "ipython",
    "version": 3
   },
   "file_extension": ".py",
   "mimetype": "text/x-python",
   "name": "python",
   "nbconvert_exporter": "python",
   "pygments_lexer": "ipython3",
   "version": "3.6.8"
  }
 },
 "nbformat": 4,
 "nbformat_minor": 2
}
