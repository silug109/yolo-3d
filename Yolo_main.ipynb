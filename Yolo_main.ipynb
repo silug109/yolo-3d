{
 "cells": [
  {
   "cell_type": "code",
   "execution_count": 1,
   "metadata": {},
   "outputs": [
    {
     "name": "stderr",
     "output_type": "stream",
     "text": [
      "Using TensorFlow backend.\n"
     ]
    }
   ],
   "source": [
    "from __future__ import absolute_import, division, print_function, unicode_literals, unicode_literals\n",
    "\n",
    "import tensorflow as tf\n",
    "\n",
    "import numpy as np\n",
    "import skimage\n",
    "import cv2\n",
    "import scipy.io\n",
    "import pprint\n",
    "import glob\n",
    "\n",
    "import PIL as pillow\n",
    "from PIL import Image\n",
    "import matplotlib.pyplot as plt\n",
    "import matplotlib.patches as patches\n",
    "\n",
    "import os\n",
    "import matplotlib\n",
    "\n",
    "\n",
    "import json\n",
    "\n",
    "import random\n",
    "from sklearn.model_selection import train_test_split\n",
    "\n",
    "import config\n",
    "from data_util import *\n",
    "from visualization import *\n",
    "from metrics import *\n",
    "from model import *\n",
    "\n",
    "import open3d\n",
    "import open3d as o3d\n",
    "\n",
    "%matplotlib notebook"
   ]
  },
  {
   "cell_type": "code",
   "execution_count": 2,
   "metadata": {},
   "outputs": [
    {
     "name": "stdout",
     "output_type": "stream",
     "text": [
      "WARNING:tensorflow:From /home/cognitive-comp/.local/lib/python3.6/site-packages/tensorflow/python/framework/op_def_library.py:263: colocate_with (from tensorflow.python.framework.ops) is deprecated and will be removed in a future version.\n",
      "Instructions for updating:\n",
      "Colocations handled automatically by placer.\n",
      "WARNING:tensorflow:From /home/cognitive-comp/Рабочий стол/projects/yolo/model.py:182: to_float (from tensorflow.python.ops.math_ops) is deprecated and will be removed in a future version.\n",
      "Instructions for updating:\n",
      "Use tf.cast instead.\n",
      "WARNING:tensorflow:From /home/cognitive-comp/Рабочий стол/projects/yolo/model.py:219: Print (from tensorflow.python.ops.logging_ops) is deprecated and will be removed after 2018-08-20.\n",
      "Instructions for updating:\n",
      "Use tf.print instead of tf.Print. Note that tf.print returns a no-output operator that directly prints the output. Outside of defuns or eager mode, this operator will not be executed unless it is directly specified in session.run or used as a control dependency for other operators. This is only a concern in graph mode. Below is an example of how to ensure tf.print executes in graph mode:\n",
      "```python\n",
      "    sess = tf.Session()\n",
      "    with sess.as_default():\n",
      "        tensor = tf.range(10)\n",
      "        print_op = tf.print(tensor)\n",
      "        with tf.control_dependencies([print_op]):\n",
      "          out = tf.add(tensor, tensor)\n",
      "        sess.run(out)\n",
      "    ```\n",
      "Additionally, to use tf.print in python 2.7, users must make sure to import\n",
      "the following:\n",
      "\n",
      "  `from __future__ import print_function`\n",
      "\n",
      "_________________________________________________________________\n",
      "Layer (type)                 Output Shape              Param #   \n",
      "=================================================================\n",
      "input_1 (InputLayer)         (None, 512.0, 128.0, 40.0 0         \n",
      "_________________________________________________________________\n",
      "conv_0_1 (Conv3D)            (None, 512.0, 128.0, 40.0 2016      \n",
      "_________________________________________________________________\n",
      "conv_0_2 (Conv3D)            (None, 512.0, 128.0, 40.0 32016     \n",
      "_________________________________________________________________\n",
      "norm_0_1 (BatchNormalization (None, 512.0, 128.0, 40.0 64        \n",
      "_________________________________________________________________\n",
      "leaky_re_lu_1 (LeakyReLU)    (None, 512.0, 128.0, 40.0 0         \n",
      "_________________________________________________________________\n",
      "max_pooling3d_1 (MaxPooling3 (None, 256.0, 64.0, 40.0, 0         \n",
      "_________________________________________________________________\n",
      "conv_1_1 (Conv3D)            (None, 256.0, 64.0, 40.0, 64032     \n",
      "_________________________________________________________________\n",
      "conv_1_2 (Conv3D)            (None, 256.0, 64.0, 40.0, 128032    \n",
      "_________________________________________________________________\n",
      "norm_1_1 (BatchNormalization (None, 256.0, 64.0, 40.0, 128       \n",
      "_________________________________________________________________\n",
      "leaky_re_lu_2 (LeakyReLU)    (None, 256.0, 64.0, 40.0, 0         \n",
      "_________________________________________________________________\n",
      "max_pooling3d_2 (MaxPooling3 (None, 64.0, 16.0, 10.0,  0         \n",
      "_________________________________________________________________\n",
      "conv_2_1 (Conv3D)            (None, 64.0, 16.0, 10.0,  128032    \n",
      "_________________________________________________________________\n",
      "conv_2_2 (Conv3D)            (None, 64.0, 16.0, 10.0,  128032    \n",
      "_________________________________________________________________\n",
      "norm_5_1 (BatchNormalization (None, 64.0, 16.0, 10.0,  128       \n",
      "_________________________________________________________________\n",
      "leaky_re_lu_3 (LeakyReLU)    (None, 64.0, 16.0, 10.0,  0         \n",
      "_________________________________________________________________\n",
      "max_pooling3d_3 (MaxPooling3 (None, 16.0, 8.0, 5.0, 32 0         \n",
      "_________________________________________________________________\n",
      "pred_yolo (Conv3D)           (None, 16.0, 8.0, 5.0, 32 1056      \n",
      "_________________________________________________________________\n",
      "yolo (Conv3D)                (None, 16.0, 8.0, 5.0, 72 2376      \n",
      "_________________________________________________________________\n",
      "reshape_1 (Reshape)          (None, 16, 8, 5, 6, 12)   0         \n",
      "=================================================================\n",
      "Total params: 485,912\n",
      "Trainable params: 485,752\n",
      "Non-trainable params: 160\n",
      "_________________________________________________________________\n"
     ]
    }
   ],
   "source": [
    "model_our = load_model_2()\n",
    "model_our.summary()"
   ]
  },
  {
   "cell_type": "code",
   "execution_count": 3,
   "metadata": {},
   "outputs": [],
   "source": [
    "# model_our.load_weights('train_full_train.h5')\n",
    "# val_loss_arr = np.load('val_loss_progress.npy')\n",
    "# loss_arr = np.load('loss_progress.npy')"
   ]
  },
  {
   "cell_type": "code",
   "execution_count": 4,
   "metadata": {},
   "outputs": [],
   "source": [
    "directory = './data_not_raw'\n",
    "val_directory = './val_data_not_raw'\n",
    "\n",
    "train_list = create_full_dir_list('./data_not_raw')['pathname_base']\n",
    "val_list = create_full_dir_list('./val_data_not_raw')['pathname_base']"
   ]
  },
  {
   "cell_type": "code",
   "execution_count": null,
   "metadata": {},
   "outputs": [
    {
     "name": "stdout",
     "output_type": "stream",
     "text": [
      "WARNING:tensorflow:From /home/cognitive-comp/.local/lib/python3.6/site-packages/tensorflow/python/ops/math_ops.py:3066: to_int32 (from tensorflow.python.ops.math_ops) is deprecated and will be removed in a future version.\n",
      "Instructions for updating:\n",
      "Use tf.cast instead.\n",
      "Epoch 1/10\n",
      "60/60 [==============================] - 54s 892ms/step - loss: 583238.9568 - val_loss: 663818.7234\n",
      "Epoch 2/10\n",
      "60/60 [==============================] - 46s 762ms/step - loss: 197342.0884 - val_loss: 217762.9078\n",
      "Epoch 3/10\n",
      "60/60 [==============================] - 48s 794ms/step - loss: 94407.4448 - val_loss: 128298.4449\n",
      "Epoch 4/10\n",
      "60/60 [==============================] - 50s 828ms/step - loss: 54055.8225 - val_loss: 84247.3422\n",
      "Epoch 5/10\n",
      "60/60 [==============================] - 48s 800ms/step - loss: 34384.6057 - val_loss: 60089.4329\n",
      "Epoch 6/10\n",
      "60/60 [==============================] - 47s 785ms/step - loss: 22808.1990 - val_loss: 44541.2842\n",
      "Epoch 7/10\n",
      "60/60 [==============================] - 48s 795ms/step - loss: 16689.1994 - val_loss: 27293.4675\n",
      "Epoch 8/10\n",
      "60/60 [==============================] - 49s 813ms/step - loss: 12283.5300 - val_loss: 20517.1248\n",
      "Epoch 9/10\n",
      "60/60 [==============================] - 48s 801ms/step - loss: 9014.9962 - val_loss: 18592.8089\n",
      "Epoch 10/10\n",
      "60/60 [==============================] - 48s 803ms/step - loss: 8343.4312 - val_loss: 16989.5268\n"
     ]
    },
    {
     "data": {
      "image/png": "[encoded data removed]",
      "text/plain": [
       "<Figure size 432x288 with 1 Axes>"
      ]
     },
     "metadata": {
      "needs_background": "light"
     },
     "output_type": "display_data"
    },
    {
     "name": "stdout",
     "output_type": "stream",
     "text": [
      "Epoch 1/10\n",
      "60/60 [==============================] - 48s 798ms/step - loss: 5972.0312 - val_loss: 11231.8886\n",
      "Epoch 2/10\n",
      "60/60 [==============================] - 48s 799ms/step - loss: 5245.2663 - val_loss: 7137.0233\n",
      "Epoch 3/10\n",
      "60/60 [==============================] - 47s 786ms/step - loss: 3888.9646 - val_loss: 10440.0515\n",
      "Epoch 4/10\n",
      "60/60 [==============================] - 48s 792ms/step - loss: 3521.9275 - val_loss: 9279.7403\n",
      "Epoch 5/10\n",
      "60/60 [==============================] - 47s 787ms/step - loss: 2892.2262 - val_loss: 8194.3180\n",
      "Epoch 6/10\n",
      "60/60 [==============================] - 47s 786ms/step - loss: 2493.0263 - val_loss: 6908.8369\n",
      "Epoch 7/10\n",
      "60/60 [==============================] - 47s 787ms/step - loss: 3149.0755 - val_loss: 6225.9168\n",
      "Epoch 8/10\n",
      "60/60 [==============================] - 47s 783ms/step - loss: 2052.8647 - val_loss: 3834.0015\n",
      "Epoch 9/10\n",
      "60/60 [==============================] - 47s 787ms/step - loss: 1792.3328 - val_loss: 3685.0704\n",
      "Epoch 10/10\n",
      "60/60 [==============================] - 47s 790ms/step - loss: 1602.9756 - val_loss: 3968.7891\n"
     ]
    },
    {
     "data": {
      "image/png": "[encoded data removed]",
      "text/plain": [
       "<Figure size 432x288 with 1 Axes>"
      ]
     },
     "metadata": {
      "needs_background": "light"
     },
     "output_type": "display_data"
    },
    {
     "name": "stdout",
     "output_type": "stream",
     "text": [
      "searching in directory./val_data_not_raw\n",
      "avg_iou 0.21445363227145045\n",
      "recall50 0.0\n",
      "recall75 0.0\n",
      "avg_obj 0.016920076911903205\n",
      "avg_noobj 0.028600795462431095\n",
      "avg_cat 0.22280543172520878\n",
      "conf_change -12.987440724740736\n",
      "Epoch 1/10\n",
      "60/60 [==============================] - 48s 792ms/step - loss: 1407.5176 - val_loss: 3582.9913\n",
      "Epoch 2/10\n",
      "60/60 [==============================] - 47s 786ms/step - loss: 1265.4865 - val_loss: 2931.2676\n",
      "Epoch 3/10\n",
      "60/60 [==============================] - 48s 792ms/step - loss: 1338.6524 - val_loss: 2674.4132\n",
      "Epoch 4/10\n",
      "60/60 [==============================] - 48s 805ms/step - loss: 1056.1443 - val_loss: 2492.8426\n",
      "Epoch 5/10\n",
      "60/60 [==============================] - 48s 803ms/step - loss: 935.0825 - val_loss: 2161.3085\n",
      "Epoch 6/10\n",
      "60/60 [==============================] - 48s 808ms/step - loss: 922.4514 - val_loss: 2112.6139\n",
      "Epoch 7/10\n",
      "60/60 [==============================] - 48s 792ms/step - loss: 845.6119 - val_loss: 2078.0677\n",
      "Epoch 8/10\n",
      "60/60 [==============================] - 47s 791ms/step - loss: 782.1054 - val_loss: 1819.6777\n",
      "Epoch 9/10\n",
      "60/60 [==============================] - 49s 810ms/step - loss: 1645.9775 - val_loss: 1502.8429\n",
      "Epoch 10/10\n",
      "60/60 [==============================] - 49s 809ms/step - loss: 668.7721 - val_loss: 1371.3261\n"
     ]
    },
    {
     "data": {
      "image/png": "[encoded data removed]",
      "text/plain": [
       "<Figure size 432x288 with 1 Axes>"
      ]
     },
     "metadata": {
      "needs_background": "light"
     },
     "output_type": "display_data"
    },
    {
     "name": "stdout",
     "output_type": "stream",
     "text": [
      "Epoch 1/10\n",
      "60/60 [==============================] - 48s 803ms/step - loss: 690.2958 - val_loss: 1259.7553\n",
      "Epoch 2/10\n",
      "60/60 [==============================] - 49s 815ms/step - loss: 629.4578 - val_loss: 1082.2595\n",
      "Epoch 3/10\n",
      "60/60 [==============================] - 50s 839ms/step - loss: 591.0302 - val_loss: 1385.4561\n",
      "Epoch 4/10\n",
      "60/60 [==============================] - 48s 800ms/step - loss: 538.2610 - val_loss: 1304.3999\n",
      "Epoch 5/10\n",
      "60/60 [==============================] - 49s 811ms/step - loss: 520.9675 - val_loss: 1026.8446\n",
      "Epoch 6/10\n",
      "60/60 [==============================] - 49s 815ms/step - loss: 618.8889 - val_loss: 902.3870\n",
      "Epoch 7/10\n",
      "60/60 [==============================] - 48s 797ms/step - loss: 455.6328 - val_loss: 923.3777\n",
      "Epoch 8/10\n",
      "60/60 [==============================] - 48s 799ms/step - loss: 1254.6037 - val_loss: 783.3145\n",
      "Epoch 9/10\n",
      "60/60 [==============================] - 48s 800ms/step - loss: 546.1271 - val_loss: 738.5201\n",
      "Epoch 10/10\n",
      "60/60 [==============================] - 47s 789ms/step - loss: 413.2134 - val_loss: 905.7939\n"
     ]
    },
    {
     "data": {
      "image/png": "[encoded data removed]",
      "text/plain": [
       "<Figure size 432x288 with 1 Axes>"
      ]
     },
     "metadata": {
      "needs_background": "light"
     },
     "output_type": "display_data"
    },
    {
     "name": "stdout",
     "output_type": "stream",
     "text": [
      "Epoch 1/10\n",
      "60/60 [==============================] - 47s 790ms/step - loss: 1123.3884 - val_loss: 650.9189\n",
      "Epoch 2/10\n",
      "60/60 [==============================] - 47s 785ms/step - loss: 468.3792 - val_loss: 997.1565\n",
      "Epoch 3/10\n",
      "60/60 [==============================] - 48s 792ms/step - loss: 431.0110 - val_loss: 1064.4309\n",
      "Epoch 4/10\n",
      "60/60 [==============================] - 48s 796ms/step - loss: 381.4588 - val_loss: 816.5746\n",
      "Epoch 5/10\n",
      "60/60 [==============================] - 48s 799ms/step - loss: 336.3385 - val_loss: 844.0564\n",
      "Epoch 6/10\n",
      "60/60 [==============================] - 48s 792ms/step - loss: 475.9211 - val_loss: 647.3756\n",
      "Epoch 7/10\n",
      "60/60 [==============================] - 48s 796ms/step - loss: 355.3022 - val_loss: 663.1750\n",
      "Epoch 8/10\n",
      "60/60 [==============================] - 48s 796ms/step - loss: 344.4679 - val_loss: 670.0639\n",
      "Epoch 9/10\n",
      "22/60 [==========>...................] - ETA: 26s - loss: 316.0760"
     ]
    }
   ],
   "source": [
    "#new_version\n",
    "val_loss_arr = []\n",
    "loss_arr = []\n",
    "\n",
    "plt.figure()\n",
    "counter = 0\n",
    "\n",
    "while True:\n",
    "    H = model_our.fit_generator(generator_train_new(train_list), validation_data= return_test_new(val_list), steps_per_epoch= 60, epochs = 10)\n",
    "    val_loss_arr.append(H.history['val_loss'])\n",
    "    loss_arr.append(H.history['loss'])\n",
    "    \n",
    "    plt.ylim(0,2000)\n",
    "    plt.plot(np.ravel(np.array(val_loss_arr)))\n",
    "    plt.plot(np.ravel(np.array(loss_arr)))\n",
    "    plt.show()\n",
    "    \n",
    "    if counter%3 == 1:\n",
    "        metrics_numpy_new(model_our, directory= val_directory)\n",
    "    counter += 1"
   ]
  },
  {
   "cell_type": "code",
   "execution_count": 5,
   "metadata": {},
   "outputs": [
    {
     "name": "stdout",
     "output_type": "stream",
     "text": [
      "searching in directory./val_data_not_raw/\n",
      "loading ./val_data_not_raw/Data_30-May-2018 13-29-23/0\n",
      "loading ./val_data_not_raw/Data_30-May-2018 13-29-23/1\n",
      "loading ./val_data_not_raw/Data_30-May-2018 13-29-23/2\n",
      "loading ./val_data_not_raw/Data_30-May-2018 13-29-23/3\n",
      "loading ./val_data_not_raw/Data_30-May-2018 13-29-23/4\n",
      "loading ./val_data_not_raw/Data_30-May-2018 13-29-23/5\n",
      "loading ./val_data_not_raw/Data_30-May-2018 13-29-23/6\n",
      "loading ./val_data_not_raw/Data_30-May-2018 13-29-23/7\n",
      "loading ./val_data_not_raw/Data_30-May-2018 13-29-23/8\n",
      "loading ./val_data_not_raw/Data_30-May-2018 13-29-23/9\n",
      "loading ./val_data_not_raw/Data_30-May-2018 13-29-23/10\n",
      "loading ./val_data_not_raw/Data_30-May-2018 13-29-23/11\n",
      "loading ./val_data_not_raw/Data_30-May-2018 13-29-23/12\n",
      "loading ./val_data_not_raw/Data_30-May-2018 13-29-23/13\n",
      "loading ./val_data_not_raw/Data_30-May-2018 13-29-23/14\n",
      "loading ./val_data_not_raw/Data_30-May-2018 13-29-23/15\n",
      "loading ./val_data_not_raw/Data_30-May-2018 13-29-23/16\n",
      "loading ./val_data_not_raw/Data_30-May-2018 13-29-23/17\n",
      "loading ./val_data_not_raw/Data_30-May-2018 13-29-23/18\n",
      "loading ./val_data_not_raw/Data_30-May-2018 13-29-23/19\n",
      "loading ./val_data_not_raw/Data_30-May-2018 13-29-23/20\n",
      "loading ./val_data_not_raw/Data_30-May-2018 13-29-23/21\n",
      "loading ./val_data_not_raw/Data_30-May-2018 13-29-23/22\n",
      "loading ./val_data_not_raw/Data_30-May-2018 13-29-23/23\n",
      "loading ./val_data_not_raw/Data_30-May-2018 13-29-23/24\n",
      "loading ./val_data_not_raw/Data_30-May-2018 13-29-23/25\n",
      "loading ./val_data_not_raw/Data_30-May-2018 13-29-23/26\n",
      "loading ./val_data_not_raw/Data_30-May-2018 13-29-23/27\n",
      "loading ./val_data_not_raw/Data_30-May-2018 13-29-23/28\n",
      "loading ./val_data_not_raw/Data_30-May-2018 13-29-23/29\n",
      "loading ./val_data_not_raw/Data_30-May-2018 13-29-23/30\n",
      "loading ./val_data_not_raw/Data_30-May-2018 13-29-23/31\n",
      "loading ./val_data_not_raw/Data_30-May-2018 13-29-23/32\n",
      "loading ./val_data_not_raw/Data_30-May-2018 13-29-23/33\n",
      "loading ./val_data_not_raw/Data_30-May-2018 13-29-23/34\n",
      "loading ./val_data_not_raw/Data_30-May-2018 13-29-23/35\n",
      "loading ./val_data_not_raw/Data_30-May-2018 13-29-23/36\n",
      "loading ./val_data_not_raw/Data_30-May-2018 13-29-23/37\n",
      "loading ./val_data_not_raw/Data_30-May-2018 13-29-23/38\n",
      "loading ./val_data_not_raw/Data_30-May-2018 13-29-23/39\n",
      "avg_iou 0.032898608879588405\n",
      "recall50 0.0\n",
      "recall75 0.0\n",
      "avg_obj 0.5549545362667054\n",
      "avg_noobj 0.5131169750290795\n",
      "avg_cat 0.2847363993822686\n",
      "conf_change -366.73806619644165\n"
     ]
    }
   ],
   "source": [
    "metrics_numpy_new(model_our, './val_data_not_raw/')"
   ]
  },
  {
   "cell_type": "code",
   "execution_count": 6,
   "metadata": {},
   "outputs": [
    {
     "name": "stdout",
     "output_type": "stream",
     "text": [
      "searching in directory./val_data_not_raw/\n",
      "avg_iou 0.011484831547728419\n",
      "avg_precision 0.0007560487594174115\n",
      "recall50 0.02423076923076923\n",
      "true_counter: 130\n",
      "prediction counter:  5591\n"
     ]
    }
   ],
   "source": [
    "metrics_numpy_targets_new(model_our, './val_data_not_raw/')"
   ]
  },
  {
   "cell_type": "code",
   "execution_count": 27,
   "metadata": {},
   "outputs": [],
   "source": [
    "# save_logs(model_our,val_loss_arr, loss_arr)"
   ]
  },
  {
   "cell_type": "code",
   "execution_count": 6,
   "metadata": {},
   "outputs": [
    {
     "data": {
      "image/png": "[encoded data removed]",
      "text/plain": [
       "<Figure size 432x288 with 3 Axes>"
      ]
     },
     "metadata": {
      "needs_background": "light"
     },
     "output_type": "display_data"
    }
   ],
   "source": [
    "frame, labels, y_true = process_oneframe(train_list[10])\n",
    "y_pred = model_our.predict(frame)\n",
    "show_comparison_object_level(y_true, y_pred)"
   ]
  },
  {
   "cell_type": "code",
   "execution_count": 7,
   "metadata": {},
   "outputs": [
    {
     "name": "stdout",
     "output_type": "stream",
     "text": [
      "29 [[338.87862396240234, 69.73996829986572, 28.040637016296387, 265.487796664238, 113.72320652008057, 64.8882246017456, 0.6285463, 0], [338.43830490112305, 70.04444980621338, 35.942251205444336, 282.19059109687805, 119.913090467453, 61.126365661621094, 0.6467111, 0], [337.83244705200195, 85.9320764541626, 27.972407817840576, 258.1962835788727, 101.4700448513031, 74.57414150238037, 0.62016237, 0], [337.3095531463623, 86.39928960800171, 35.99226260185242, 274.1447287797928, 110.69825530052185, 68.52466583251953, 0.6419145, 0], [336.9811248779297, 102.74153327941895, 36.094411849975586, 246.63590848445892, 122.07748651504517, 56.71208381652832, 0.6002292, 0], [374.30789947509766, 52.66397523880005, 20.461926460266113, 247.94072151184082, 145.7213008403778, 54.20144557952881, 0.653745, 0], [376.82621002197266, 52.30048990249634, 28.621137619018555, 319.5264059305191, 167.56187796592712, 80.17576217651367, 0.6806489, 0], [375.4231777191162, 51.99477028846741, 36.25477695465088, 339.8035126924515, 143.41583490371704, 72.93212890625, 0.7070247, 0], [375.29680824279785, 68.21225881576538, 20.066479206085205, 315.96629202365875, 97.8043520450592, 111.8552303314209, 0.6806706, 0], [376.44042587280273, 67.2656602859497, 28.261781692504883, 489.00559425354004, 144.83219861984253, 205.10812759399414, 0.76909745, 0], [373.9091548919678, 67.43783617019653, 35.99302268028259, 481.9748091697693, 152.17240929603577, 121.82092666625977, 0.78816944, 0], [374.7694282531738, 83.82786273956299, 19.79386615753174, 249.30870652198792, 70.19375681877136, 120.36208152770996, 0.6546865, 0], [373.71979904174805, 83.52440929412842, 27.77870750427246, 395.06479918956757, 103.06712567806244, 199.82032775878906, 0.7471916, 0], [372.1169853210449, 84.08887672424316, 35.49190044403076, 506.9805037975311, 137.46028065681458, 119.85247611999512, 0.7833331, 0], [374.0688877105713, 99.7705180644989, 20.06126880645752, 191.73500776290894, 98.21424543857574, 71.42150402069092, 0.62244403, 0], [372.5093517303467, 99.82914614677429, 28.074913024902344, 263.9417326450348, 114.47092413902283, 98.38850021362305, 0.66669124, 0], [371.66343688964844, 101.29003381729126, 35.29647707939148, 404.4295507669449, 160.43866157531738, 56.87156677246094, 0.7124845, 0], [407.0581169128418, 52.68954277038574, 28.193030834197998, 199.37696039676666, 183.45770597457886, 38.812053203582764, 0.6034432, 0], [407.77119064331055, 52.7384147644043, 35.67142677307129, 307.70168602466583, 146.9332981109619, 37.40755558013916, 0.6297651, 0], [407.34931564331055, 68.46880626678467, 28.294371128082275, 376.50115609169006, 200.59913992881775, 82.34939575195312, 0.6363456, 0], [408.48039054870605, 68.17439985275269, 35.979501485824585, 448.55509519577026, 150.69769263267517, 74.14119243621826, 0.6532746, 0], [404.9536762237549, 85.7580075263977, 20.050320625305176, 388.88249814510345, 171.86415553092957, 42.25748538970947, 0.65551543, 0], [405.2288284301758, 85.14337396621704, 28.06978940963745, 408.8102161884308, 175.94883561134338, 88.55347633361816, 0.67848444, 0], [407.03796577453613, 85.01877069473267, 35.64453887939453, 422.6656770706177, 108.92178177833557, 97.09138870239258, 0.67820704, 0], [404.2255668640137, 101.87648153305054, 12.104859828948975, 254.10660028457642, 120.31673550605774, 41.22297763824463, 0.6340329, 0], [404.3084831237793, 101.72133827209473, 20.015979766845703, 310.37661015987396, 123.34345698356628, 42.4217414855957, 0.65893906, 0], [405.2969093322754, 101.4121413230896, 28.088189125061035, 302.2044771909714, 119.12008047103882, 72.97110557556152, 0.6773613, 0], [404.58005142211914, 102.47235441207886, 35.47252559661865, 325.2856379747391, 101.76698923110962, 52.5276517868042, 0.6668999, 0], [404.42036056518555, 118.13472604751587, 28.11582899093628, 247.88402557373047, 120.24942636489868, 56.23758316040039, 0.6078209, 0]]\n"
     ]
    }
   ],
   "source": [
    "boxes = decode_netout(y_pred)\n",
    "# print(len(boxes), boxes)"
   ]
  },
  {
   "cell_type": "code",
   "execution_count": 8,
   "metadata": {},
   "outputs": [
    {
     "name": "stdout",
     "output_type": "stream",
     "text": [
      "[ 49.   157.75  66.75  20.    20.    44.5   20.  ]\n",
      "[ 52.   165.75  19.25  20.    20.    29.5   20.  ]\n",
      "[ 53.   203.25  32.25  20.    17.    50.5   20.  ]\n",
      "[ 53.   293.5   52.75  20.    11.5   29.5   20.  ]\n",
      "[ 53.  324.   84.5  20.   12.5  38.   20. ]\n",
      "[ 53.  333.5  60.5  20.   13.5  37.   20. ]\n",
      "[ 53.   354.25  81.5   20.     9.    39.    20.  ]\n",
      "[ 53.   387.25  83.5   20.    18.    59.    20.  ]\n"
     ]
    }
   ],
   "source": [
    "for i in labels:\n",
    "    print(i)"
   ]
  },
  {
   "cell_type": "code",
   "execution_count": 9,
   "metadata": {},
   "outputs": [
    {
     "data": {
      "image/png": "[encoded data removed]",
      "text/plain": [
       "<Figure size 720x720 with 2 Axes>"
      ]
     },
     "metadata": {
      "needs_background": "light"
     },
     "output_type": "display_data"
    }
   ],
   "source": [
    "visualise_bird_view(frame,labels, boxes)"
   ]
  },
  {
   "cell_type": "code",
   "execution_count": 13,
   "metadata": {},
   "outputs": [
    {
     "data": {
      "image/png": "[encoded data removed]",
      "text/plain": [
       "<Figure size 432x288 with 1 Axes>"
      ]
     },
     "metadata": {
      "needs_background": "light"
     },
     "output_type": "display_data"
    },
    {
     "data": {
      "image/png": "[encoded data removed]",
      "text/plain": [
       "<Figure size 936x936 with 1 Axes>"
      ]
     },
     "metadata": {
      "needs_background": "light"
     },
     "output_type": "display_data"
    },
    {
     "data": {
      "image/png": "[encoded data removed]",
      "text/plain": [
       "<Figure size 936x936 with 1 Axes>"
      ]
     },
     "metadata": {
      "needs_background": "light"
     },
     "output_type": "display_data"
    },
    {
     "data": {
      "image/png": "[encoded data removed]",
      "text/plain": [
       "<Figure size 720x720 with 1 Axes>"
      ]
     },
     "metadata": {
      "needs_background": "light"
     },
     "output_type": "display_data"
    }
   ],
   "source": [
    "histogram_array = np.histogram(frame[0,...,0],bins = 256)\n",
    "cdf = histogram_array[0].cumsum()\n",
    "cdf_normalized = cdf*histogram_array[0].max()/cdf.max()\n",
    "\n",
    "\n",
    "# print(histogram_array)\n",
    "\n",
    "plt.plot(cdf_normalized, color = 'b')\n",
    "plt.hist(frame.flatten(),256, color = 'r')\n",
    "plt.xlim([0,256])\n",
    "plt.legend(('cdf','histogram'), loc = 'upper left')\n",
    "plt.show()\n",
    "\n",
    "cdf_m = np.ma.masked_equal(cdf,0)\n",
    "cdf_m = (cdf_m - cdf_m.min())*255/(cdf_m.max()-cdf_m.min())\n",
    "cdf = np.ma.filled(cdf_m,0).astype('uint8')\n",
    "\n",
    "frame_equalised = cdf[frame[0,...,0]]\n",
    "\n",
    "plt.figure(figsize = (13,13))\n",
    "plt.bar(range(len(histogram_array[0][3:])),histogram_array[0][3:])\n",
    "plt.show()\n",
    "\n",
    "\n",
    "histogram_array_equalised = np.histogram(frame_equalised,bins = 256)\n",
    "plt.figure(figsize = (13,13))\n",
    "plt.bar(range(len(histogram_array_equalised[0][1:])), histogram_array_equalised[0][1:])\n",
    "plt.show()\n",
    "\n",
    "plt.figure(figsize = (10,10))\n",
    "plt.imshow(np.sum(frame_equalised,2))\n",
    "plt.show()"
   ]
  },
  {
   "cell_type": "code",
   "execution_count": 14,
   "metadata": {},
   "outputs": [
    {
     "data": {
      "image/png": "[encoded data removed]",
      "text/plain": [
       "<Figure size 432x288 with 1 Axes>"
      ]
     },
     "metadata": {
      "needs_background": "light"
     },
     "output_type": "display_data"
    }
   ],
   "source": [
    "from skimage import data\n",
    "from skimage import filters\n",
    "\n",
    "val = filters.threshold_otsu(frame_equalised)\n",
    "mask = frame_equalised > val\n",
    "\n",
    "plt.imshow(np.sum(mask,2))\n",
    "\n",
    "from skimage import measure\n",
    "all_labels = measure.label(mask)\n",
    "\n",
    "\n",
    "from skimage.morphology import watershed\n",
    "from skimage.feature import peak_local_max\n",
    "import skimage\n",
    "\n",
    "\n",
    "from scipy import ndimage\n",
    "distance = ndimage.distance_transform_edt(frame_equalised)\n",
    "local_maxi = peak_local_max(distance, indices=False, footprint=np.ones((3, 3,3)), labels=frame_equalised)\n",
    "markers = skimage.morphology.label(local_maxi)\n",
    "labels_ws = watershed(-distance, markers, mask=frame_equalised)\n"
   ]
  },
  {
   "cell_type": "code",
   "execution_count": 51,
   "metadata": {},
   "outputs": [
    {
     "data": {
      "application/vnd.jupyter.widget-view+json": {
       "model_id": "aa83e60e74724245ba4e969457023752",
       "version_major": 2,
       "version_minor": 0
      },
      "text/plain": [
       "interactive(children=(IntSlider(value=19, description='x', max=39), Output()), _dom_classes=('widget-interact'…"
      ]
     },
     "metadata": {},
     "output_type": "display_data"
    },
    {
     "data": {
      "text/plain": [
       "<function __main__.f(x)>"
      ]
     },
     "execution_count": 51,
     "metadata": {},
     "output_type": "execute_result"
    }
   ],
   "source": [
    "from ipywidgets import interact\n",
    "\n",
    "# mask = mask.astype(np.int8)\n",
    "\n",
    "\n",
    "def f(x):\n",
    "    plt.figure(figsize = (15,15))\n",
    "    if x in list(range(all_labels.shape[-1])):\n",
    "        plt.imshow(all_labels[...,x])\n",
    "    return x\n",
    "\n",
    "\n",
    "interact(f,x = (0, all_labels.shape[-1]-1))"
   ]
  },
  {
   "cell_type": "code",
   "execution_count": 72,
   "metadata": {},
   "outputs": [
    {
     "data": {
      "text/plain": [
       "<Figure size 648x648 with 0 Axes>"
      ]
     },
     "metadata": {},
     "output_type": "display_data"
    },
    {
     "data": {
      "application/vnd.jupyter.widget-view+json": {
       "model_id": "5351e6d90630455a95603502c1f10a23",
       "version_major": 2,
       "version_minor": 0
      },
      "text/plain": [
       "interactive(children=(IntSlider(value=19, description='x', max=39), Output()), _dom_classes=('widget-interact'…"
      ]
     },
     "metadata": {},
     "output_type": "display_data"
    },
    {
     "data": {
      "text/plain": [
       "<function __main__.f(x)>"
      ]
     },
     "execution_count": 72,
     "metadata": {},
     "output_type": "execute_result"
    }
   ],
   "source": [
    "def f(x):\n",
    "    if x in list(range(labels_ws.shape[-1])):\n",
    "        plt.imshow(labels_ws[...,x])\n",
    "    return x\n",
    "\n",
    "plt.figure(figsize = (9,9))\n",
    "interact(f,x = (0, labels_ws.shape[-1]-1))"
   ]
  },
  {
   "cell_type": "code",
   "execution_count": 25,
   "metadata": {},
   "outputs": [
    {
     "data": {
      "text/plain": [
       "2"
      ]
     },
     "execution_count": 25,
     "metadata": {},
     "output_type": "execute_result"
    }
   ],
   "source": [
    "import scipy.ndimage\n",
    "targets_generated = scipy.ndimage.find_objects(all_labels)\n",
    "len(targets_generated)"
   ]
  },
  {
   "cell_type": "code",
   "execution_count": 26,
   "metadata": {},
   "outputs": [],
   "source": [
    "def filtering_boxes(bounds):\n",
    "    min_size = 20\n",
    "    \n",
    "    dim_size = [item_dim[1] - item_dim[0] for item_dim in bounds]\n",
    "    \n",
    "    box_prod = np.prod(dim_size)\n",
    "    \n",
    "    print(dim_size)\n",
    "    print(box_prod)\n",
    "    print(box_prod < min_size)\n",
    "    if box_prod > min_size:\n",
    "        return bounds\n",
    "    else:\n",
    "        return 0"
   ]
  },
  {
   "cell_type": "code",
   "execution_count": 38,
   "metadata": {},
   "outputs": [
    {
     "data": {
      "image/png": "[encoded data removed]",
      "text/plain": [
       "<Figure size 576x576 with 1 Axes>"
      ]
     },
     "metadata": {
      "needs_background": "light"
     },
     "output_type": "display_data"
    }
   ],
   "source": [
    "plt.figure(figsize = (8,8))\n",
    "plt.imshow(np.sum(frame_equalised,axis = -1))\n",
    "plt.ylim((100,200))\n",
    "plt.show()\n"
   ]
  },
  {
   "cell_type": "code",
   "execution_count": 27,
   "metadata": {},
   "outputs": [
    {
     "name": "stdout",
     "output_type": "stream",
     "text": [
      "[13, 68, 22]\n",
      "19448\n",
      "False\n",
      "[(136, 149), (35, 103), (18, 40)]\n",
      "[12, 51, 16]\n",
      "9792\n",
      "False\n",
      "[(159, 171), (54, 105), (24, 40)]\n",
      "2\n"
     ]
    },
    {
     "data": {
      "text/plain": [
       "array([[142.5,  69. ,  29. ,  13. ,  68. ,  22. ],\n",
       "       [165. ,  79.5,  32. ,  12. ,  51. ,  16. ]])"
      ]
     },
     "execution_count": 27,
     "metadata": {},
     "output_type": "execute_result"
    }
   ],
   "source": [
    "targets_matric = np.zeros((len(targets_generated), 2*N_DIM))\n",
    "\n",
    "count = 0\n",
    "bounding_boxes = []\n",
    "for ind in range(len(targets_generated)):\n",
    "    item = targets_generated[ind]\n",
    "    bounds = [(item[j].start,item[j].stop) for j in range(len(item))]\n",
    "    bounds_processed = filtering_boxes(bounds)\n",
    "    if bounds_processed == 0:\n",
    "        continue\n",
    "    count += 1\n",
    "    print(bounds)\n",
    "    bbox = []\n",
    "    for dim in range(len(bounds)):\n",
    "        start = bounds[dim][0]\n",
    "        end = bounds[dim][1]\n",
    "        center = (end + start)/2\n",
    "        width = (end - start)\n",
    "        bbox.append([center,width])\n",
    "#     print(bbox[0][0], bbox[1][0], bbox[2][0],bbox[0][1], bbox[1][1], bbox[2][1])\n",
    "    bounding_boxes.append([bbox[0][0], bbox[1][0], bbox[2][0],bbox[0][1], bbox[1][1], bbox[2][1]])\n",
    "    \n",
    "print(count)\n",
    "\n",
    "np.array(bounding_boxes)"
   ]
  },
  {
   "cell_type": "code",
   "execution_count": 47,
   "metadata": {},
   "outputs": [
    {
     "name": "stdout",
     "output_type": "stream",
     "text": [
      "[142.5, 69.0, 29.0, 13, 68, 22] 69.0 68 142.5 13\n",
      "[165.0, 79.5, 32.0, 12, 51, 16] 79.5 51 165.0 12\n"
     ]
    },
    {
     "data": {
      "image/png": "[encoded data removed]",
      "text/plain": [
       "<Figure size 648x648 with 1 Axes>"
      ]
     },
     "metadata": {
      "needs_background": "light"
     },
     "output_type": "display_data"
    }
   ],
   "source": [
    "im = np.sum(frame,axis = (0,3,4))\n",
    "\n",
    "fig,ax = plt.subplots(1, figsize = (9,9))\n",
    "\n",
    "# Display the image\n",
    "ax.imshow(im)\n",
    "\n",
    "\n",
    "for box in bounding_boxes:\n",
    "    y = box[0]\n",
    "    x = box[1]\n",
    "    w = box[3]\n",
    "    l = box[4]\n",
    "    x_t = x-l/2\n",
    "    x_b = x+l/2 \n",
    "    y_t = y-w/2\n",
    "    y_b = y+w/2\n",
    "    rect = patches.Rectangle((x_t,y_t),l,w,linewidth=1,edgecolor='r',facecolor='none')\n",
    "    ax.add_patch(rect)\n",
    "\n",
    "plt.show()"
   ]
  },
  {
   "cell_type": "code",
   "execution_count": 122,
   "metadata": {},
   "outputs": [],
   "source": [
    "pcd = create_pointcloud(pointcloud_coords_generation(frame_equalised)[0])\n",
    "\n",
    "bb_objects = []\n",
    "bb_cords = []\n",
    "\n",
    "for i in range(len(bounding_boxes)):\n",
    "    \n",
    "#     boxes_points = get_all_points(bounding_boxes[i])\n",
    "#     vertices = boxes_points\n",
    "    \n",
    "    cx = bounding_boxes[i][0]\n",
    "    cy = bounding_boxes[i][1]\n",
    "    cz = bounding_boxes[i][2]\n",
    "    l  = bounding_boxes[i][3]\n",
    "    w  = bounding_boxes[i][4]\n",
    "    h  = bounding_boxes[i][5]\n",
    "    \n",
    "    \n",
    "    cx,cy,cz = tocartesian(cx,cy,cz)\n",
    "    \n",
    "    new_l = l*(67/512)\n",
    "    new_w = 2*(cx+new_l/2)*np.tan(((w-64)/2)*(114/128)*np.pi/180)\n",
    "    new_h = 2*(cz+new_l/2)*np.tan((h/2)*(16/40)*np.pi/180)\n",
    "    \n",
    "    l = new_l/2\n",
    "    w = new_w/2\n",
    "    h = new_h/2\n",
    "\n",
    "    vertices = [] \n",
    "\n",
    "    for i in [-l,l]:\n",
    "        for j in [-w,w]:\n",
    "            for k in [-h,h]:\n",
    "                vertices.append([cx+i,cy+j,cz+k])\n",
    "                \n",
    "    lines = [[0,1],[0,2],[1,3],[2,3],\n",
    "         [4,5],[4,6],[5,7],[6,7],\n",
    "         [0,4],[1,5],[2,6],[3,7]]\n",
    "    colors = [[1, 0, 0] for i in range(len(lines))]\n",
    "    line_set = o3d.geometry.LineSet()\n",
    "    line_set.points = o3d.utility.Vector3dVector(vertices)\n",
    "    line_set.lines = o3d.utility.Vector2iVector(lines)\n",
    "    line_set.colors = o3d.utility.Vector3dVector(colors)\n",
    "    bb_cords.append([cx,cy,cz,l,w,h])\n",
    "    bb_objects.append(line_set)\n",
    "    \n",
    "o3d.visualization.draw_geometries([pcd, *bb_objects])"
   ]
  },
  {
   "cell_type": "code",
   "execution_count": 124,
   "metadata": {},
   "outputs": [],
   "source": [
    "def bb_dict_create(bb_cords):\n",
    "    whole_dict = {}\n",
    "    whole_dict['bounding_boxes'] = []\n",
    "    \n",
    "    for i in range(len(bb_cords)):\n",
    "        bb_dict = {}\n",
    "        bb_dict.setdefault('center',{'x':0, 'y':0, 'z':0})\n",
    "        \n",
    "        bb_dict['center']['x']  = bb_cords[i][0]\n",
    "        bb_dict['center']['y']  = bb_cords[i][1]\n",
    "        bb_dict['center']['z']  = bb_cords[i][2]\n",
    "        bb_dict['width'] = bb_cords[i][3]\n",
    "        bb_dict['length'] = bb_cords[i][4]\n",
    "        bb_dict['height'] = bb_cords[i][5]\n",
    "        bb_dict['angle'] = 0\n",
    "        bb_dict['object_id'] = 'car'\n",
    "        \n",
    "        whole_dict['bounding_boxes'].append(bb_dict)\n",
    "    \n",
    "    return whole_dict"
   ]
  },
  {
   "cell_type": "code",
   "execution_count": 127,
   "metadata": {},
   "outputs": [
    {
     "data": {
      "text/plain": [
       "{'bounding_boxes': [{'center': {'x': 18.21144782113539,\n",
       "    'y': 1.4182814981585026,\n",
       "    'z': 3.749592679963082},\n",
       "   'width': 0.8505859375,\n",
       "   'length': 0.5928044115111635,\n",
       "   'height': 0.3539644536894255,\n",
       "   'angle': 0,\n",
       "   'object_id': 'car'},\n",
       "  {'center': {'x': 20.447041537646193,\n",
       "    'y': 5.024048880647653,\n",
       "    'z': 4.783630158560959},\n",
       "   'width': 0.78515625,\n",
       "   'length': -2.1525931349264664,\n",
       "   'height': 0.31134349624239666,\n",
       "   'angle': 0,\n",
       "   'object_id': 'car'}]}"
      ]
     },
     "execution_count": 127,
     "metadata": {},
     "output_type": "execute_result"
    }
   ],
   "source": [
    "bb_dict_create(bb_cords)"
   ]
  },
  {
   "cell_type": "code",
   "execution_count": null,
   "metadata": {},
   "outputs": [],
   "source": [
    "json."
   ]
  },
  {
   "cell_type": "code",
   "execution_count": 104,
   "metadata": {},
   "outputs": [],
   "source": [
    "def get_all_points(box):\n",
    "    cx = box[0]\n",
    "    cy = box[1]\n",
    "    cz = box[2]\n",
    "    l = box[3]/2\n",
    "    w = box[4]/2\n",
    "    h = box[5]/2\n",
    "    \n",
    "    points = [] \n",
    "    \n",
    "    for i in [-l,l]:\n",
    "        for j in [-w,w]:\n",
    "            for k in [-h,h]:\n",
    "                points.append(tocartesian(cx+i, cy+j, cz+k))\n",
    "    return points\n",
    "\n",
    "\n",
    "def tocartesian(R_ind,phi_ind,theta_ind):\n",
    "    \n",
    "    R_real = 67\n",
    "    R_imagery = 512\n",
    "    phi_real = 114\n",
    "    phi_imagery = 128\n",
    "    theta_real = 16\n",
    "    theta_imagery = 40\n",
    "    \n",
    "    theta = theta_ind*(theta_real/theta_imagery)*np.pi/180\n",
    "    phi = ((phi_ind - phi_imagery/2)*(phi_real/phi_imagery))*np.pi/180 \n",
    "    R = R_ind*(R_real/R_imagery)\n",
    "    \n",
    "    \n",
    "    x = R*np.cos(theta)*np.cos(phi)\n",
    "    y = R*np.cos(theta)*np.sin(phi)\n",
    "    z = R*np.sin(theta)\n",
    "    \n",
    "    return [x,y,z]"
   ]
  },
  {
   "cell_type": "code",
   "execution_count": null,
   "metadata": {},
   "outputs": [],
   "source": []
  }
 ],
 "metadata": {
  "kernelspec": {
   "display_name": "Python 3",
   "language": "python",
   "name": "python3"
  },
  "language_info": {
   "codemirror_mode": {
    "name": "ipython",
    "version": 3
   },
   "file_extension": ".py",
   "mimetype": "text/x-python",
   "name": "python",
   "nbconvert_exporter": "python",
   "pygments_lexer": "ipython3",
   "version": "3.6.8"
  }
 },
 "nbformat": 4,
 "nbformat_minor": 2
}
