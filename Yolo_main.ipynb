{
 "cells": [
  {
   "cell_type": "code",
   "execution_count": 1,
   "metadata": {},
   "outputs": [
    {
     "name": "stderr",
     "output_type": "stream",
     "text": [
      "Using TensorFlow backend.\n"
     ]
    }
   ],
   "source": [
    "from __future__ import absolute_import, division, print_function, unicode_literals, unicode_literals\n",
    "\n",
    "import tensorflow as tf\n",
    "\n",
    "import numpy as np\n",
    "import skimage\n",
    "import cv2\n",
    "import scipy.io\n",
    "import pprint\n",
    "import glob\n",
    "\n",
    "import PIL as pillow\n",
    "from PIL import Image\n",
    "import matplotlib.pyplot as plt\n",
    "import matplotlib.patches as patches\n",
    "\n",
    "import os\n",
    "import matplotlib\n",
    "\n",
    "\n",
    "import json\n",
    "\n",
    "import random\n",
    "from sklearn.model_selection import train_test_split\n",
    "\n",
    "import config\n",
    "from data_util import *\n",
    "from visualization import *\n",
    "from metrics import *\n",
    "from model import *\n",
    "\n",
    "import open3d\n",
    "import open3d as o3d\n",
    "\n",
    "%matplotlib notebook"
   ]
  },
  {
   "cell_type": "code",
   "execution_count": 2,
   "metadata": {},
   "outputs": [
    {
     "name": "stdout",
     "output_type": "stream",
     "text": [
      "WARNING:tensorflow:From /home/cognitive-comp/.local/lib/python3.6/site-packages/tensorflow/python/framework/op_def_library.py:263: colocate_with (from tensorflow.python.framework.ops) is deprecated and will be removed in a future version.\n",
      "Instructions for updating:\n",
      "Colocations handled automatically by placer.\n",
      "WARNING:tensorflow:From /home/cognitive-comp/Рабочий стол/projects/yolo/model.py:313: to_float (from tensorflow.python.ops.math_ops) is deprecated and will be removed in a future version.\n",
      "Instructions for updating:\n",
      "Use tf.cast instead.\n",
      "WARNING:tensorflow:From /home/cognitive-comp/Рабочий стол/projects/yolo/model.py:343: Print (from tensorflow.python.ops.logging_ops) is deprecated and will be removed after 2018-08-20.\n",
      "Instructions for updating:\n",
      "Use tf.print instead of tf.Print. Note that tf.print returns a no-output operator that directly prints the output. Outside of defuns or eager mode, this operator will not be executed unless it is directly specified in session.run or used as a control dependency for other operators. This is only a concern in graph mode. Below is an example of how to ensure tf.print executes in graph mode:\n",
      "```python\n",
      "    sess = tf.Session()\n",
      "    with sess.as_default():\n",
      "        tensor = tf.range(10)\n",
      "        print_op = tf.print(tensor)\n",
      "        with tf.control_dependencies([print_op]):\n",
      "          out = tf.add(tensor, tensor)\n",
      "        sess.run(out)\n",
      "    ```\n",
      "Additionally, to use tf.print in python 2.7, users must make sure to import\n",
      "the following:\n",
      "\n",
      "  `from __future__ import print_function`\n",
      "\n",
      "_________________________________________________________________\n",
      "Layer (type)                 Output Shape              Param #   \n",
      "=================================================================\n",
      "input_1 (InputLayer)         (None, 512.0, 128.0, 40.0 0         \n",
      "_________________________________________________________________\n",
      "conv_0_1 (Conv3D)            (None, 512.0, 128.0, 40.0 2016      \n",
      "_________________________________________________________________\n",
      "conv_0_2 (Conv3D)            (None, 512.0, 128.0, 40.0 32016     \n",
      "_________________________________________________________________\n",
      "norm_0_1 (BatchNormalization (None, 512.0, 128.0, 40.0 64        \n",
      "_________________________________________________________________\n",
      "leaky_re_lu_1 (LeakyReLU)    (None, 512.0, 128.0, 40.0 0         \n",
      "_________________________________________________________________\n",
      "max_pooling3d_1 (MaxPooling3 (None, 256.0, 64.0, 40.0, 0         \n",
      "_________________________________________________________________\n",
      "conv_1_1 (Conv3D)            (None, 256.0, 64.0, 40.0, 64032     \n",
      "_________________________________________________________________\n",
      "conv_1_2 (Conv3D)            (None, 256.0, 64.0, 40.0, 128032    \n",
      "_________________________________________________________________\n",
      "norm_1_1 (BatchNormalization (None, 256.0, 64.0, 40.0, 128       \n",
      "_________________________________________________________________\n",
      "leaky_re_lu_2 (LeakyReLU)    (None, 256.0, 64.0, 40.0, 0         \n",
      "_________________________________________________________________\n",
      "max_pooling3d_2 (MaxPooling3 (None, 64.0, 16.0, 10.0,  0         \n",
      "_________________________________________________________________\n",
      "conv_2_1 (Conv3D)            (None, 64.0, 16.0, 10.0,  128032    \n",
      "_________________________________________________________________\n",
      "conv_2_2 (Conv3D)            (None, 64.0, 16.0, 10.0,  128032    \n",
      "_________________________________________________________________\n",
      "norm_5_1 (BatchNormalization (None, 64.0, 16.0, 10.0,  128       \n",
      "_________________________________________________________________\n",
      "leaky_re_lu_3 (LeakyReLU)    (None, 64.0, 16.0, 10.0,  0         \n",
      "_________________________________________________________________\n",
      "max_pooling3d_3 (MaxPooling3 (None, 16.0, 8.0, 5.0, 32 0         \n",
      "_________________________________________________________________\n",
      "pred_yolo (Conv3D)           (None, 16.0, 8.0, 5.0, 32 1056      \n",
      "_________________________________________________________________\n",
      "yolo (Conv3D)                (None, 16.0, 8.0, 5.0, 72 2376      \n",
      "_________________________________________________________________\n",
      "reshape_1 (Reshape)          (None, 16, 8, 5, 6, 12)   0         \n",
      "=================================================================\n",
      "Total params: 485,912\n",
      "Trainable params: 485,752\n",
      "Non-trainable params: 160\n",
      "_________________________________________________________________\n"
     ]
    }
   ],
   "source": [
    "model_our = load_model_2()\n",
    "model_our.load_weights('weights_good_loader.h5')\n",
    "model_our.summary()"
   ]
  },
  {
   "cell_type": "code",
   "execution_count": 31,
   "metadata": {},
   "outputs": [],
   "source": [
    "# model_our.load_weights('train_full_train.h5')\n",
    "val_loss_arr = np.load('val_loss_progress.npy')\n",
    "loss_arr = np.load('loss_progress.npy')"
   ]
  },
  {
   "cell_type": "code",
   "execution_count": 4,
   "metadata": {},
   "outputs": [],
   "source": [
    "directory = './data_not_raw'\n",
    "val_directory = './val_data_not_raw'\n",
    "\n",
    "train_list = create_full_dir_list('./data_not_raw')['pathname_base']\n",
    "val_list = create_full_dir_list('./val_data_not_raw')['pathname_base']"
   ]
  },
  {
   "cell_type": "code",
   "execution_count": 32,
   "metadata": {},
   "outputs": [
    {
     "name": "stdout",
     "output_type": "stream",
     "text": [
      "WARNING:tensorflow:From /home/cognitive-comp/.local/lib/python3.6/site-packages/tensorflow/python/ops/math_ops.py:3066: to_int32 (from tensorflow.python.ops.math_ops) is deprecated and will be removed in a future version.\n",
      "Instructions for updating:\n",
      "Use tf.cast instead.\n",
      "Epoch 1/10\n",
      "60/60 [==============================] - 51s 844ms/step - loss: -20.6392 - val_loss: 4347.0257\n",
      "Epoch 2/10\n",
      "60/60 [==============================] - 45s 757ms/step - loss: 529.8059 - val_loss: 7120.2619\n",
      "Epoch 3/10\n",
      "60/60 [==============================] - 46s 767ms/step - loss: 905.5130 - val_loss: 4605.6443\n",
      "Epoch 4/10\n",
      "60/60 [==============================] - 47s 778ms/step - loss: 873.7831 - val_loss: 3987.9452\n",
      "Epoch 5/10\n",
      "60/60 [==============================] - 47s 780ms/step - loss: 795.5174 - val_loss: 5287.5994\n",
      "Epoch 6/10\n",
      "60/60 [==============================] - 47s 785ms/step - loss: 1102.9973 - val_loss: 6049.0077\n",
      "Epoch 7/10\n",
      "60/60 [==============================] - 47s 786ms/step - loss: 131.0887 - val_loss: 7179.2480\n",
      "Epoch 8/10\n",
      "60/60 [==============================] - 47s 791ms/step - loss: 1260.0593 - val_loss: 6686.1935\n",
      "Epoch 9/10\n",
      "60/60 [==============================] - 47s 786ms/step - loss: -27.6730 - val_loss: 4742.1760\n",
      "Epoch 10/10\n",
      "60/60 [==============================] - 47s 791ms/step - loss: 463.5203 - val_loss: 4276.7543\n"
     ]
    },
    {
     "ename": "AttributeError",
     "evalue": "'numpy.ndarray' object has no attribute 'append'",
     "output_type": "error",
     "traceback": [
      "\u001b[0;31m---------------------------------------------------------------------------\u001b[0m",
      "\u001b[0;31mAttributeError\u001b[0m                            Traceback (most recent call last)",
      "\u001b[0;32m<ipython-input-32-ce474394ee86>\u001b[0m in \u001b[0;36m<module>\u001b[0;34m\u001b[0m\n\u001b[1;32m      8\u001b[0m \u001b[0;32mwhile\u001b[0m \u001b[0;32mTrue\u001b[0m\u001b[0;34m:\u001b[0m\u001b[0;34m\u001b[0m\u001b[0;34m\u001b[0m\u001b[0m\n\u001b[1;32m      9\u001b[0m     \u001b[0mH\u001b[0m \u001b[0;34m=\u001b[0m \u001b[0mmodel_our\u001b[0m\u001b[0;34m.\u001b[0m\u001b[0mfit_generator\u001b[0m\u001b[0;34m(\u001b[0m\u001b[0mgenerator_train_new\u001b[0m\u001b[0;34m(\u001b[0m\u001b[0mtrain_list\u001b[0m\u001b[0;34m)\u001b[0m\u001b[0;34m,\u001b[0m \u001b[0mvalidation_data\u001b[0m\u001b[0;34m=\u001b[0m \u001b[0mreturn_test_new\u001b[0m\u001b[0;34m(\u001b[0m\u001b[0mval_list\u001b[0m\u001b[0;34m)\u001b[0m\u001b[0;34m,\u001b[0m \u001b[0msteps_per_epoch\u001b[0m\u001b[0;34m=\u001b[0m \u001b[0;36m60\u001b[0m\u001b[0;34m,\u001b[0m \u001b[0mepochs\u001b[0m \u001b[0;34m=\u001b[0m \u001b[0;36m10\u001b[0m\u001b[0;34m)\u001b[0m\u001b[0;34m\u001b[0m\u001b[0;34m\u001b[0m\u001b[0m\n\u001b[0;32m---> 10\u001b[0;31m     \u001b[0mval_loss_arr\u001b[0m\u001b[0;34m.\u001b[0m\u001b[0mappend\u001b[0m\u001b[0;34m(\u001b[0m\u001b[0mH\u001b[0m\u001b[0;34m.\u001b[0m\u001b[0mhistory\u001b[0m\u001b[0;34m[\u001b[0m\u001b[0;34m'val_loss'\u001b[0m\u001b[0;34m]\u001b[0m\u001b[0;34m)\u001b[0m\u001b[0;34m\u001b[0m\u001b[0;34m\u001b[0m\u001b[0m\n\u001b[0m\u001b[1;32m     11\u001b[0m     \u001b[0mloss_arr\u001b[0m\u001b[0;34m.\u001b[0m\u001b[0mappend\u001b[0m\u001b[0;34m(\u001b[0m\u001b[0mH\u001b[0m\u001b[0;34m.\u001b[0m\u001b[0mhistory\u001b[0m\u001b[0;34m[\u001b[0m\u001b[0;34m'loss'\u001b[0m\u001b[0;34m]\u001b[0m\u001b[0;34m)\u001b[0m\u001b[0;34m\u001b[0m\u001b[0;34m\u001b[0m\u001b[0m\n\u001b[1;32m     12\u001b[0m \u001b[0;34m\u001b[0m\u001b[0m\n",
      "\u001b[0;31mAttributeError\u001b[0m: 'numpy.ndarray' object has no attribute 'append'"
     ]
    },
    {
     "data": {
      "text/plain": [
       "<Figure size 432x288 with 0 Axes>"
      ]
     },
     "metadata": {},
     "output_type": "display_data"
    }
   ],
   "source": [
    "#new_version\n",
    "# val_loss_arr = []\n",
    "# loss_arr = []\n",
    "\n",
    "plt.figure()\n",
    "counter = 0\n",
    "\n",
    "while True:\n",
    "    H = model_our.fit_generator(generator_train_new(train_list), validation_data= return_test_new(val_list), steps_per_epoch= 60, epochs = 10)\n",
    "    val_loss_arr.append(H.history['val_loss'])\n",
    "    loss_arr.append(H.history['loss'])\n",
    "    \n",
    "    plt.ylim(0,4000)\n",
    "    plt.plot(np.ravel(np.array(val_loss_arr)))\n",
    "    plt.plot(np.ravel(np.array(loss_arr)))\n",
    "    plt.show()\n",
    "    \n",
    "#     if counter%3 == 1:\n",
    "    metrics_numpy_new(model_our, directory= val_directory)\n",
    "    counter += 1"
   ]
  },
  {
   "cell_type": "code",
   "execution_count": 14,
   "metadata": {},
   "outputs": [],
   "source": [
    "save_logs(model_our, val_loss_arr, loss_arr)"
   ]
  },
  {
   "cell_type": "code",
   "execution_count": 4,
   "metadata": {},
   "outputs": [
    {
     "name": "stdout",
     "output_type": "stream",
     "text": [
      "searching in directory./val_data_not_raw\n",
      "avg_iou 0.10911654758599706\n",
      "recall50 0.0008333055564814507\n",
      "recall75 0.0\n",
      "recall50_obj 0.00722191590843347\n",
      "recall75_obj 0.0\n",
      "avg_obj 0.5063697791029733\n",
      "avg_noobj 0.5000082483479998\n",
      "avg_cat 0.19107719887505845\n",
      "conf_change 380.03518176078796\n"
     ]
    }
   ],
   "source": [
    "metrics_numpy_new(model_our, directory= val_directory)"
   ]
  },
  {
   "cell_type": "code",
   "execution_count": 12,
   "metadata": {},
   "outputs": [
    {
     "name": "stdout",
     "output_type": "stream",
     "text": [
      "searching in directory./data_not_raw/\n",
      "avg_iou 0.3922199743157334\n",
      "recall50 0.014064986401231194\n",
      "recall75 0.0003691131199873683\n",
      "recall50_obj 0.28773215800513985\n",
      "recall75_obj 0.016622588627027434\n",
      "avg_obj 0.8394108292472674\n",
      "avg_noobj 0.0004700037622451121\n",
      "avg_cat 0.08035710136727474\n",
      "conf_change 13023.43434959086\n"
     ]
    }
   ],
   "source": [
    "metrics_numpy_new(model_our, './data_not_raw/')"
   ]
  },
  {
   "cell_type": "code",
   "execution_count": 6,
   "metadata": {},
   "outputs": [
    {
     "name": "stdout",
     "output_type": "stream",
     "text": [
      "searching in directory./val_data_not_raw/Data_30-May-2018 13-29-23/0\n",
      "avg_iou 0.11925987200953989\n",
      "avg_precision 0.0998168498168498\n",
      "recall50 0.09621794871794871\n",
      "true_counter: 130\n",
      "prediction counter:  126\n"
     ]
    }
   ],
   "source": [
    "metrics_numpy_targets_new(model_our, val_list)"
   ]
  },
  {
   "cell_type": "code",
   "execution_count": 27,
   "metadata": {},
   "outputs": [],
   "source": [
    "# save_logs(model_our,val_loss_arr, loss_arr)"
   ]
  },
  {
   "cell_type": "code",
   "execution_count": 33,
   "metadata": {},
   "outputs": [
    {
     "data": {
      "image/png": "[encoded data removed]",
      "text/plain": [
       "<Figure size 432x288 with 3 Axes>"
      ]
     },
     "metadata": {
      "needs_background": "light"
     },
     "output_type": "display_data"
    }
   ],
   "source": [
    "frame, labels, y_true = process_oneframe(train_list[10])\n",
    "y_pred = model_our.predict(frame)\n",
    "show_comparison_object_level(y_true, y_pred)"
   ]
  },
  {
   "cell_type": "code",
   "execution_count": 34,
   "metadata": {},
   "outputs": [
    {
     "name": "stdout",
     "output_type": "stream",
     "text": [
      "23\n"
     ]
    }
   ],
   "source": [
    "boxes = decode_netout(y_pred)\n",
    "print(len(boxes))\n",
    "# for i in boxes[::6]:\n",
    "#     print(i)"
   ]
  },
  {
   "cell_type": "code",
   "execution_count": 35,
   "metadata": {},
   "outputs": [
    {
     "name": "stdout",
     "output_type": "stream",
     "text": [
      "[ 49.         176.65240811  61.36058302  20.          16.59062104\n",
      "  51.28010139  20.        ]\n",
      "[ 49.         243.20342205  70.78707224  20.          13.19708492\n",
      "  48.26362484  20.        ]\n",
      "[ 49.         275.25348542  57.02439797  20.          16.21356147\n",
      "  52.4112801   20.        ]\n",
      "[ 49.         194.75126743  65.50823828  20.          12.06590621\n",
      "  42.98479087  20.        ]\n"
     ]
    }
   ],
   "source": [
    "for i in labels:\n",
    "    print(i)"
   ]
  },
  {
   "cell_type": "code",
   "execution_count": 36,
   "metadata": {},
   "outputs": [
    {
     "data": {
      "image/png": "[encoded data removed]",
      "text/plain": [
       "<Figure size 720x720 with 2 Axes>"
      ]
     },
     "metadata": {
      "needs_background": "light"
     },
     "output_type": "display_data"
    }
   ],
   "source": [
    "visualise_bird_view(frame,labels, boxes[::6])"
   ]
  },
  {
   "cell_type": "code",
   "execution_count": 30,
   "metadata": {},
   "outputs": [
    {
     "name": "stdout",
     "output_type": "stream",
     "text": [
      "before NMS: 36\n",
      "after NMS: 8\n",
      "avg_iou: 0.301108075250541\n",
      "precision: 0.375 , recall50: 0.75\n",
      "counts 3 5 (8,)\n",
      "iou_vector+ indeces: [0.57203914 0.5085261  0.56200843] [False  True False False False  True False  True]\n",
      "\n",
      "avg_iou 0.07527701881263525\n",
      "avg_precision 0.09375\n",
      "recall50 0.1875\n",
      "true_counter: 4\n",
      "prediction counter:  8\n"
     ]
    }
   ],
   "source": [
    "metrics_numpy_targets_new(model_our, train_list[0:1], verbose= 1)"
   ]
  },
  {
   "cell_type": "code",
   "execution_count": null,
   "metadata": {},
   "outputs": [],
   "source": []
  },
  {
   "cell_type": "code",
   "execution_count": null,
   "metadata": {},
   "outputs": [],
   "source": []
  },
  {
   "cell_type": "code",
   "execution_count": 13,
   "metadata": {},
   "outputs": [
    {
     "data": {
      "image/png": "[encoded data removed]",
      "text/plain": [
       "<Figure size 432x288 with 1 Axes>"
      ]
     },
     "metadata": {
      "needs_background": "light"
     },
     "output_type": "display_data"
    },
    {
     "data": {
      "image/png": "[encoded data removed]",
      "text/plain": [
       "<Figure size 936x936 with 1 Axes>"
      ]
     },
     "metadata": {
      "needs_background": "light"
     },
     "output_type": "display_data"
    },
    {
     "data": {
      "image/png": "[encoded data removed]",
      "text/plain": [
       "<Figure size 936x936 with 1 Axes>"
      ]
     },
     "metadata": {
      "needs_background": "light"
     },
     "output_type": "display_data"
    },
    {
     "data": {
      "image/png": "[encoded data removed]",
      "text/plain": [
       "<Figure size 720x720 with 1 Axes>"
      ]
     },
     "metadata": {
      "needs_background": "light"
     },
     "output_type": "display_data"
    }
   ],
   "source": [
    "histogram_array = np.histogram(frame[0,...,0],bins = 256)\n",
    "cdf = histogram_array[0].cumsum()\n",
    "cdf_normalized = cdf*histogram_array[0].max()/cdf.max()\n",
    "\n",
    "\n",
    "# print(histogram_array)\n",
    "\n",
    "plt.plot(cdf_normalized, color = 'b')\n",
    "plt.hist(frame.flatten(),256, color = 'r')\n",
    "plt.xlim([0,256])\n",
    "plt.legend(('cdf','histogram'), loc = 'upper left')\n",
    "plt.show()\n",
    "\n",
    "cdf_m = np.ma.masked_equal(cdf,0)\n",
    "cdf_m = (cdf_m - cdf_m.min())*255/(cdf_m.max()-cdf_m.min())\n",
    "cdf = np.ma.filled(cdf_m,0).astype('uint8')\n",
    "\n",
    "frame_equalised = cdf[frame[0,...,0]]\n",
    "\n",
    "plt.figure(figsize = (13,13))\n",
    "plt.bar(range(len(histogram_array[0][3:])),histogram_array[0][3:])\n",
    "plt.show()\n",
    "\n",
    "\n",
    "histogram_array_equalised = np.histogram(frame_equalised,bins = 256)\n",
    "plt.figure(figsize = (13,13))\n",
    "plt.bar(range(len(histogram_array_equalised[0][1:])), histogram_array_equalised[0][1:])\n",
    "plt.show()\n",
    "\n",
    "plt.figure(figsize = (10,10))\n",
    "plt.imshow(np.sum(frame_equalised,2))\n",
    "plt.show()"
   ]
  },
  {
   "cell_type": "code",
   "execution_count": 14,
   "metadata": {},
   "outputs": [
    {
     "data": {
      "image/png": "[encoded data removed]",
      "text/plain": [
       "<Figure size 432x288 with 1 Axes>"
      ]
     },
     "metadata": {
      "needs_background": "light"
     },
     "output_type": "display_data"
    }
   ],
   "source": [
    "from skimage import data\n",
    "from skimage import filters\n",
    "\n",
    "val = filters.threshold_otsu(frame_equalised)\n",
    "mask = frame_equalised > val\n",
    "\n",
    "plt.imshow(np.sum(mask,2))\n",
    "\n",
    "from skimage import measure\n",
    "all_labels = measure.label(mask)\n",
    "\n",
    "\n",
    "from skimage.morphology import watershed\n",
    "from skimage.feature import peak_local_max\n",
    "import skimage\n",
    "\n",
    "\n",
    "from scipy import ndimage\n",
    "distance = ndimage.distance_transform_edt(frame_equalised)\n",
    "local_maxi = peak_local_max(distance, indices=False, footprint=np.ones((3, 3,3)), labels=frame_equalised)\n",
    "markers = skimage.morphology.label(local_maxi)\n",
    "labels_ws = watershed(-distance, markers, mask=frame_equalised)\n"
   ]
  },
  {
   "cell_type": "code",
   "execution_count": 51,
   "metadata": {},
   "outputs": [
    {
     "data": {
      "application/vnd.jupyter.widget-view+json": {
       "model_id": "aa83e60e74724245ba4e969457023752",
       "version_major": 2,
       "version_minor": 0
      },
      "text/plain": [
       "interactive(children=(IntSlider(value=19, description='x', max=39), Output()), _dom_classes=('widget-interact'…"
      ]
     },
     "metadata": {},
     "output_type": "display_data"
    },
    {
     "data": {
      "text/plain": [
       "<function __main__.f(x)>"
      ]
     },
     "execution_count": 51,
     "metadata": {},
     "output_type": "execute_result"
    }
   ],
   "source": [
    "from ipywidgets import interact\n",
    "\n",
    "# mask = mask.astype(np.int8)\n",
    "\n",
    "\n",
    "def f(x):\n",
    "    plt.figure(figsize = (15,15))\n",
    "    if x in list(range(all_labels.shape[-1])):\n",
    "        plt.imshow(all_labels[...,x])\n",
    "    return x\n",
    "\n",
    "\n",
    "interact(f,x = (0, all_labels.shape[-1]-1))"
   ]
  },
  {
   "cell_type": "code",
   "execution_count": 72,
   "metadata": {},
   "outputs": [
    {
     "data": {
      "text/plain": [
       "<Figure size 648x648 with 0 Axes>"
      ]
     },
     "metadata": {},
     "output_type": "display_data"
    },
    {
     "data": {
      "application/vnd.jupyter.widget-view+json": {
       "model_id": "5351e6d90630455a95603502c1f10a23",
       "version_major": 2,
       "version_minor": 0
      },
      "text/plain": [
       "interactive(children=(IntSlider(value=19, description='x', max=39), Output()), _dom_classes=('widget-interact'…"
      ]
     },
     "metadata": {},
     "output_type": "display_data"
    },
    {
     "data": {
      "text/plain": [
       "<function __main__.f(x)>"
      ]
     },
     "execution_count": 72,
     "metadata": {},
     "output_type": "execute_result"
    }
   ],
   "source": [
    "def f(x):\n",
    "    if x in list(range(labels_ws.shape[-1])):\n",
    "        plt.imshow(labels_ws[...,x])\n",
    "    return x\n",
    "\n",
    "plt.figure(figsize = (9,9))\n",
    "interact(f,x = (0, labels_ws.shape[-1]-1))"
   ]
  },
  {
   "cell_type": "code",
   "execution_count": 25,
   "metadata": {},
   "outputs": [
    {
     "data": {
      "text/plain": [
       "2"
      ]
     },
     "execution_count": 25,
     "metadata": {},
     "output_type": "execute_result"
    }
   ],
   "source": [
    "import scipy.ndimage\n",
    "targets_generated = scipy.ndimage.find_objects(all_labels)\n",
    "len(targets_generated)"
   ]
  },
  {
   "cell_type": "code",
   "execution_count": 26,
   "metadata": {},
   "outputs": [],
   "source": [
    "def filtering_boxes(bounds):\n",
    "    min_size = 20\n",
    "    \n",
    "    dim_size = [item_dim[1] - item_dim[0] for item_dim in bounds]\n",
    "    \n",
    "    box_prod = np.prod(dim_size)\n",
    "    \n",
    "    print(dim_size)\n",
    "    print(box_prod)\n",
    "    print(box_prod < min_size)\n",
    "    if box_prod > min_size:\n",
    "        return bounds\n",
    "    else:\n",
    "        return 0"
   ]
  },
  {
   "cell_type": "code",
   "execution_count": 38,
   "metadata": {},
   "outputs": [
    {
     "data": {
      "image/png": "[encoded data removed]",
      "text/plain": [
       "<Figure size 576x576 with 1 Axes>"
      ]
     },
     "metadata": {
      "needs_background": "light"
     },
     "output_type": "display_data"
    }
   ],
   "source": [
    "plt.figure(figsize = (8,8))\n",
    "plt.imshow(np.sum(frame_equalised,axis = -1))\n",
    "plt.ylim((100,200))\n",
    "plt.show()\n"
   ]
  },
  {
   "cell_type": "code",
   "execution_count": 27,
   "metadata": {},
   "outputs": [
    {
     "name": "stdout",
     "output_type": "stream",
     "text": [
      "[13, 68, 22]\n",
      "19448\n",
      "False\n",
      "[(136, 149), (35, 103), (18, 40)]\n",
      "[12, 51, 16]\n",
      "9792\n",
      "False\n",
      "[(159, 171), (54, 105), (24, 40)]\n",
      "2\n"
     ]
    },
    {
     "data": {
      "text/plain": [
       "array([[142.5,  69. ,  29. ,  13. ,  68. ,  22. ],\n",
       "       [165. ,  79.5,  32. ,  12. ,  51. ,  16. ]])"
      ]
     },
     "execution_count": 27,
     "metadata": {},
     "output_type": "execute_result"
    }
   ],
   "source": [
    "targets_matric = np.zeros((len(targets_generated), 2*N_DIM))\n",
    "\n",
    "count = 0\n",
    "bounding_boxes = []\n",
    "for ind in range(len(targets_generated)):\n",
    "    item = targets_generated[ind]\n",
    "    bounds = [(item[j].start,item[j].stop) for j in range(len(item))]\n",
    "    bounds_processed = filtering_boxes(bounds)\n",
    "    if bounds_processed == 0:\n",
    "        continue\n",
    "    count += 1\n",
    "    print(bounds)\n",
    "    bbox = []\n",
    "    for dim in range(len(bounds)):\n",
    "        start = bounds[dim][0]\n",
    "        end = bounds[dim][1]\n",
    "        center = (end + start)/2\n",
    "        width = (end - start)\n",
    "        bbox.append([center,width])\n",
    "#     print(bbox[0][0], bbox[1][0], bbox[2][0],bbox[0][1], bbox[1][1], bbox[2][1])\n",
    "    bounding_boxes.append([bbox[0][0], bbox[1][0], bbox[2][0],bbox[0][1], bbox[1][1], bbox[2][1]])\n",
    "    \n",
    "print(count)\n",
    "\n",
    "np.array(bounding_boxes)"
   ]
  },
  {
   "cell_type": "code",
   "execution_count": 47,
   "metadata": {},
   "outputs": [
    {
     "name": "stdout",
     "output_type": "stream",
     "text": [
      "[142.5, 69.0, 29.0, 13, 68, 22] 69.0 68 142.5 13\n",
      "[165.0, 79.5, 32.0, 12, 51, 16] 79.5 51 165.0 12\n"
     ]
    },
    {
     "data": {
      "image/png": "[encoded data removed]",
      "text/plain": [
       "<Figure size 648x648 with 1 Axes>"
      ]
     },
     "metadata": {
      "needs_background": "light"
     },
     "output_type": "display_data"
    }
   ],
   "source": [
    "im = np.sum(frame,axis = (0,3,4))\n",
    "\n",
    "fig,ax = plt.subplots(1, figsize = (9,9))\n",
    "\n",
    "# Display the image\n",
    "ax.imshow(im)\n",
    "\n",
    "\n",
    "for box in bounding_boxes:\n",
    "    y = box[0]\n",
    "    x = box[1]\n",
    "    w = box[3]\n",
    "    l = box[4]\n",
    "    x_t = x-l/2\n",
    "    x_b = x+l/2 \n",
    "    y_t = y-w/2\n",
    "    y_b = y+w/2\n",
    "    rect = patches.Rectangle((x_t,y_t),l,w,linewidth=1,edgecolor='r',facecolor='none')\n",
    "    ax.add_patch(rect)\n",
    "\n",
    "plt.show()"
   ]
  },
  {
   "cell_type": "code",
   "execution_count": 122,
   "metadata": {},
   "outputs": [],
   "source": [
    "pcd = create_pointcloud(pointcloud_coords_generation(frame_equalised)[0])\n",
    "\n",
    "bb_objects = []\n",
    "bb_cords = []\n",
    "\n",
    "for i in range(len(bounding_boxes)):\n",
    "    \n",
    "#     boxes_points = get_all_points(bounding_boxes[i])\n",
    "#     vertices = boxes_points\n",
    "    \n",
    "    cx = bounding_boxes[i][0]\n",
    "    cy = bounding_boxes[i][1]\n",
    "    cz = bounding_boxes[i][2]\n",
    "    l  = bounding_boxes[i][3]\n",
    "    w  = bounding_boxes[i][4]\n",
    "    h  = bounding_boxes[i][5]\n",
    "    \n",
    "    \n",
    "    cx,cy,cz = tocartesian(cx,cy,cz)\n",
    "    \n",
    "    new_l = l*(67/512)\n",
    "    new_w = 2*(cx+new_l/2)*np.tan(((w-64)/2)*(114/128)*np.pi/180)\n",
    "    new_h = 2*(cz+new_l/2)*np.tan((h/2)*(16/40)*np.pi/180)\n",
    "    \n",
    "    l = new_l/2\n",
    "    w = new_w/2\n",
    "    h = new_h/2\n",
    "\n",
    "    vertices = [] \n",
    "\n",
    "    for i in [-l,l]:\n",
    "        for j in [-w,w]:\n",
    "            for k in [-h,h]:\n",
    "                vertices.append([cx+i,cy+j,cz+k])\n",
    "                \n",
    "    lines = [[0,1],[0,2],[1,3],[2,3],\n",
    "         [4,5],[4,6],[5,7],[6,7],\n",
    "         [0,4],[1,5],[2,6],[3,7]]\n",
    "    colors = [[1, 0, 0] for i in range(len(lines))]\n",
    "    line_set = o3d.geometry.LineSet()\n",
    "    line_set.points = o3d.utility.Vector3dVector(vertices)\n",
    "    line_set.lines = o3d.utility.Vector2iVector(lines)\n",
    "    line_set.colors = o3d.utility.Vector3dVector(colors)\n",
    "    bb_cords.append([cx,cy,cz,l,w,h])\n",
    "    bb_objects.append(line_set)\n",
    "    \n",
    "o3d.visualization.draw_geometries([pcd, *bb_objects])"
   ]
  },
  {
   "cell_type": "code",
   "execution_count": 124,
   "metadata": {},
   "outputs": [],
   "source": [
    "def bb_dict_create(bb_cords):\n",
    "    whole_dict = {}\n",
    "    whole_dict['bounding_boxes'] = []\n",
    "    \n",
    "    for i in range(len(bb_cords)):\n",
    "        bb_dict = {}\n",
    "        bb_dict.setdefault('center',{'x':0, 'y':0, 'z':0})\n",
    "        \n",
    "        bb_dict['center']['x']  = bb_cords[i][0]\n",
    "        bb_dict['center']['y']  = bb_cords[i][1]\n",
    "        bb_dict['center']['z']  = bb_cords[i][2]\n",
    "        bb_dict['width'] = bb_cords[i][3]\n",
    "        bb_dict['length'] = bb_cords[i][4]\n",
    "        bb_dict['height'] = bb_cords[i][5]\n",
    "        bb_dict['angle'] = 0\n",
    "        bb_dict['object_id'] = 'car'\n",
    "        \n",
    "        whole_dict['bounding_boxes'].append(bb_dict)\n",
    "    \n",
    "    return whole_dict"
   ]
  },
  {
   "cell_type": "code",
   "execution_count": 127,
   "metadata": {},
   "outputs": [
    {
     "data": {
      "text/plain": [
       "{'bounding_boxes': [{'center': {'x': 18.21144782113539,\n",
       "    'y': 1.4182814981585026,\n",
       "    'z': 3.749592679963082},\n",
       "   'width': 0.8505859375,\n",
       "   'length': 0.5928044115111635,\n",
       "   'height': 0.3539644536894255,\n",
       "   'angle': 0,\n",
       "   'object_id': 'car'},\n",
       "  {'center': {'x': 20.447041537646193,\n",
       "    'y': 5.024048880647653,\n",
       "    'z': 4.783630158560959},\n",
       "   'width': 0.78515625,\n",
       "   'length': -2.1525931349264664,\n",
       "   'height': 0.31134349624239666,\n",
       "   'angle': 0,\n",
       "   'object_id': 'car'}]}"
      ]
     },
     "execution_count": 127,
     "metadata": {},
     "output_type": "execute_result"
    }
   ],
   "source": [
    "bb_dict_create(bb_cords)"
   ]
  },
  {
   "cell_type": "code",
   "execution_count": null,
   "metadata": {},
   "outputs": [],
   "source": [
    "json."
   ]
  },
  {
   "cell_type": "code",
   "execution_count": 104,
   "metadata": {},
   "outputs": [],
   "source": [
    "def get_all_points(box):\n",
    "    cx = box[0]\n",
    "    cy = box[1]\n",
    "    cz = box[2]\n",
    "    l = box[3]/2\n",
    "    w = box[4]/2\n",
    "    h = box[5]/2\n",
    "    \n",
    "    points = [] \n",
    "    \n",
    "    for i in [-l,l]:\n",
    "        for j in [-w,w]:\n",
    "            for k in [-h,h]:\n",
    "                points.append(tocartesian(cx+i, cy+j, cz+k))\n",
    "    return points\n",
    "\n",
    "\n",
    "def tocartesian(R_ind,phi_ind,theta_ind):\n",
    "    \n",
    "    R_real = 67\n",
    "    R_imagery = 512\n",
    "    phi_real = 114\n",
    "    phi_imagery = 128\n",
    "    theta_real = 16\n",
    "    theta_imagery = 40\n",
    "    \n",
    "    theta = theta_ind*(theta_real/theta_imagery)*np.pi/180\n",
    "    phi = ((phi_ind - phi_imagery/2)*(phi_real/phi_imagery))*np.pi/180 \n",
    "    R = R_ind*(R_real/R_imagery)\n",
    "    \n",
    "    \n",
    "    x = R*np.cos(theta)*np.cos(phi)\n",
    "    y = R*np.cos(theta)*np.sin(phi)\n",
    "    z = R*np.sin(theta)\n",
    "    \n",
    "    return [x,y,z]"
   ]
  },
  {
   "cell_type": "code",
   "execution_count": null,
   "metadata": {},
   "outputs": [],
   "source": []
  }
 ],
 "metadata": {
  "kernelspec": {
   "display_name": "Python 3",
   "language": "python",
   "name": "python3"
  },
  "language_info": {
   "codemirror_mode": {
    "name": "ipython",
    "version": 3
   },
   "file_extension": ".py",
   "mimetype": "text/x-python",
   "name": "python",
   "nbconvert_exporter": "python",
   "pygments_lexer": "ipython3",
   "version": "3.6.8"
  }
 },
 "nbformat": 4,
 "nbformat_minor": 2
}
