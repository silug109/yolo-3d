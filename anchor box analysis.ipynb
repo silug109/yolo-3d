{
 "cells": [
  {
   "cell_type": "code",
   "execution_count": 1,
   "metadata": {},
   "outputs": [],
   "source": [
    "import scipy.io\n",
    "import numpy as np\n",
    "import os\n",
    "import matplotlib.pyplot as plt\n",
    "from sklearn.cluster import KMeans"
   ]
  },
  {
   "cell_type": "code",
   "execution_count": 2,
   "metadata": {},
   "outputs": [],
   "source": [
    "pathname = 'data'\n",
    "\n",
    "boxes = []\n",
    "count = 0\n",
    "\n",
    "for file in os.listdir(pathname):\n",
    "    data = scipy.io.loadmat(os.path.join(pathname,file))\n",
    "    labels = data['Labels']\n",
    "#     print(labels.shape)\n",
    "    for num_frame in range(labels.shape[0]):\n",
    "        frame_labels = labels[num_frame]\n",
    "        frame_labels = frame_labels[frame_labels > 0]\n",
    "        if frame_labels.shape[0]%5 == 0:\n",
    "            frame_labels = np.reshape(frame_labels, (-1,5))\n",
    "            count += frame_labels.shape[0]\n",
    "#             print(frame_labels[...,3:5], frame_labels.shape[0])\n",
    "            boxes.append(frame_labels[..., 3:5])\n",
    "# print(count)\n",
    "#     print(labels[0][labels[0] > 0])"
   ]
  },
  {
   "cell_type": "code",
   "execution_count": 3,
   "metadata": {},
   "outputs": [
    {
     "data": {
      "text/plain": [
       "2446"
      ]
     },
     "execution_count": 3,
     "metadata": {},
     "output_type": "execute_result"
    }
   ],
   "source": [
    "count"
   ]
  },
  {
   "cell_type": "code",
   "execution_count": 4,
   "metadata": {},
   "outputs": [],
   "source": [
    "boxes = np.concatenate(boxes)"
   ]
  },
  {
   "cell_type": "code",
   "execution_count": 5,
   "metadata": {},
   "outputs": [],
   "source": [
    "def iou(box, clusters):\n",
    "    x = np.minimum(clusters[:,0], box[0])\n",
    "    y = np.minimum(clusters[:,1], box[1])\n",
    "    \n",
    "    intersection = x*y\n",
    "    box_area = box[0]* box[1]\n",
    "    cluster_area = clusters[:,0]*clusters[:,1]\n",
    "    \n",
    "    iou_ = intersection/(box_area + cluster_area - intersection)\n",
    "    \n",
    "    return iou_\n",
    "\n",
    "def kmeans(boxes, k, dist = np.median):\n",
    "    rows = boxes.shape[0]\n",
    "    \n",
    "    distances = np.empty((rows, k))\n",
    "    last_clusters = np.zeros((rows,))\n",
    "    \n",
    "    np.random.seed()\n",
    "    \n",
    "    clusters = boxes[np.random.choice(rows,k,replace = False)]\n",
    "    \n",
    "    while True:\n",
    "        for row in range(rows):\n",
    "            distances[row] = 1 - iou(boxes[row], clusters)\n",
    "        \n",
    "        nearest_clusters = np.argmin(distances, axis = 1)\n",
    "        \n",
    "        if (last_clusters == nearest_clusters).all():\n",
    "            break\n",
    "        \n",
    "        for cluster in range(k):\n",
    "            clusters[cluster] = dist(boxes[nearest_clusters == cluster], axis = 0)\n",
    "            \n",
    "        last_clusters = nearest_clusters\n",
    "        \n",
    "    return clusters"
   ]
  },
  {
   "cell_type": "code",
   "execution_count": 7,
   "metadata": {},
   "outputs": [
    {
     "data": {
      "text/plain": [
       "array([[ 32.84664132, 116.84754522],\n",
       "       [ 26.51457541,  83.9581749 ],\n",
       "       [ 40.99619772,  84.41064639],\n",
       "       [ 23.38276299,  54.59442332],\n",
       "       [ 63.60392902, 109.06247728],\n",
       "       [ 42.71989861, 138.77756654]])"
      ]
     },
     "execution_count": 7,
     "metadata": {},
     "output_type": "execute_result"
    }
   ],
   "source": [
    "cluster_list = kmeans(boxes, 6)\n",
    "cluster_list"
   ]
  },
  {
   "cell_type": "code",
   "execution_count": 8,
   "metadata": {},
   "outputs": [
    {
     "data": {
      "image/png": "[encoded data removed]",
      "text/plain": [
       "<Figure size 432x288 with 1 Axes>"
      ]
     },
     "metadata": {
      "needs_background": "light"
     },
     "output_type": "display_data"
    }
   ],
   "source": [
    "plt.figure()\n",
    "plt.scatter(boxes[...,0], boxes[...,1])\n",
    "plt.scatter(cluster_list[...,0], cluster_list[...,1])\n",
    "plt.show()"
   ]
  },
  {
   "cell_type": "code",
   "execution_count": 9,
   "metadata": {},
   "outputs": [
    {
     "data": {
      "text/plain": [
       "array([[ 35.67640623, 113.95739749],\n",
       "       [ 27.58001277,  52.87232524],\n",
       "       [199.55368978, 102.7524872 ],\n",
       "       [ 31.65288024,  84.00646327],\n",
       "       [ 43.41693508, 143.12553836],\n",
       "       [ 67.977548  , 102.63865246]])"
      ]
     },
     "execution_count": 9,
     "metadata": {},
     "output_type": "execute_result"
    }
   ],
   "source": [
    "cluster_alg = KMeans(6)\n",
    "cluster_alg.fit(boxes)\n",
    "cluster_alg.cluster_centers_"
   ]
  },
  {
   "cell_type": "code",
   "execution_count": 10,
   "metadata": {},
   "outputs": [
    {
     "data": {
      "image/png": "[encoded data removed]",
      "text/plain": [
       "<Figure size 432x288 with 1 Axes>"
      ]
     },
     "metadata": {
      "needs_background": "light"
     },
     "output_type": "display_data"
    }
   ],
   "source": [
    "plt.figure()\n",
    "plt.scatter(boxes[...,0], boxes[...,1])\n",
    "plt.scatter(cluster_alg.cluster_centers_[...,0], cluster_alg.cluster_centers_[...,1])\n",
    "plt.scatter(cluster_alg.cluster_centers_[...,0]+10, cluster_alg.cluster_centers_[...,1]+10)\n",
    "plt.show()"
   ]
  },
  {
   "cell_type": "code",
   "execution_count": null,
   "metadata": {},
   "outputs": [],
   "source": []
  }
 ],
 "metadata": {
  "kernelspec": {
   "display_name": "Python 3",
   "language": "python",
   "name": "python3"
  },
  "language_info": {
   "codemirror_mode": {
    "name": "ipython",
    "version": 3
   },
   "file_extension": ".py",
   "mimetype": "text/x-python",
   "name": "python",
   "nbconvert_exporter": "python",
   "pygments_lexer": "ipython3",
   "version": "3.6.8"
  }
 },
 "nbformat": 4,
 "nbformat_minor": 2
}
